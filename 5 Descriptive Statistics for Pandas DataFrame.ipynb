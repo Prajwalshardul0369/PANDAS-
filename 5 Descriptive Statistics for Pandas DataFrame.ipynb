{
 "cells": [
  {
   "cell_type": "markdown",
   "id": "2bae8d86-f2e8-4eb0-9163-5935301098d0",
   "metadata": {},
   "source": [
    "### 1. Descriptive Statistics for Pandas DataFrame"
   ]
  },
  {
   "cell_type": "code",
   "execution_count": 27,
   "id": "d9c28f0f-acb4-4118-b6fa-65777eb51845",
   "metadata": {},
   "outputs": [],
   "source": [
    "import pandas as pd\n",
    "import numpy as np"
   ]
  },
  {
   "cell_type": "code",
   "execution_count": 35,
   "id": "3346d05d-8cb1-443b-a0bc-4f98e0f7d3a8",
   "metadata": {},
   "outputs": [
    {
     "data": {
      "text/html": [
       "<div>\n",
       "<style scoped>\n",
       "    .dataframe tbody tr th:only-of-type {\n",
       "        vertical-align: middle;\n",
       "    }\n",
       "\n",
       "    .dataframe tbody tr th {\n",
       "        vertical-align: top;\n",
       "    }\n",
       "\n",
       "    .dataframe thead th {\n",
       "        text-align: right;\n",
       "    }\n",
       "</style>\n",
       "<table border=\"1\" class=\"dataframe\">\n",
       "  <thead>\n",
       "    <tr style=\"text-align: right;\">\n",
       "      <th></th>\n",
       "      <th>name</th>\n",
       "      <th>Age</th>\n",
       "      <th>Rating</th>\n",
       "    </tr>\n",
       "  </thead>\n",
       "  <tbody>\n",
       "    <tr>\n",
       "      <th>0</th>\n",
       "      <td>prakash</td>\n",
       "      <td>25</td>\n",
       "      <td>4.23</td>\n",
       "    </tr>\n",
       "    <tr>\n",
       "      <th>1</th>\n",
       "      <td>rakesh</td>\n",
       "      <td>26</td>\n",
       "      <td>2.35</td>\n",
       "    </tr>\n",
       "    <tr>\n",
       "      <th>2</th>\n",
       "      <td>manoj</td>\n",
       "      <td>27</td>\n",
       "      <td>1.56</td>\n",
       "    </tr>\n",
       "    <tr>\n",
       "      <th>3</th>\n",
       "      <td>pravin</td>\n",
       "      <td>28</td>\n",
       "      <td>3.20</td>\n",
       "    </tr>\n",
       "    <tr>\n",
       "      <th>4</th>\n",
       "      <td>karan</td>\n",
       "      <td>29</td>\n",
       "      <td>4.62</td>\n",
       "    </tr>\n",
       "  </tbody>\n",
       "</table>\n",
       "</div>"
      ],
      "text/plain": [
       "      name  Age  Rating\n",
       "0  prakash   25    4.23\n",
       "1   rakesh   26    2.35\n",
       "2    manoj   27    1.56\n",
       "3   pravin   28    3.20\n",
       "4    karan   29    4.62"
      ]
     },
     "execution_count": 35,
     "metadata": {},
     "output_type": "execute_result"
    }
   ],
   "source": [
    "data = {'name':pd.Series(['prakash','rakesh','manoj','pravin','karan']),'Age':pd.Series([25,26,27,28,29,]),'Rating':pd.Series([4.23,2.35,1.56,3.20,4.62])}\n",
    "df =pd.DataFrame(data)\n",
    "df"
   ]
  },
  {
   "cell_type": "markdown",
   "id": "631d6cd6-b120-42ac-a61f-7e505bcc87b4",
   "metadata": {},
   "source": [
    "#### Fet the descriptive statistics for a specific column in your DataFrame:\n",
    "* df[‘DataFrame Column’].describe("
   ]
  },
  {
   "cell_type": "markdown",
   "id": "03dea48f-b25b-4320-af00-60aa147eba7f",
   "metadata": {},
   "source": [
    "#### Descriptive Statistics for Categorical Data"
   ]
  },
  {
   "cell_type": "code",
   "execution_count": 41,
   "id": "f0aad67b-ce5a-4f52-b95c-4b876a9196d7",
   "metadata": {},
   "outputs": [
    {
     "data": {
      "text/plain": [
       "count           5\n",
       "unique          5\n",
       "top       prakash\n",
       "freq            1\n",
       "Name: name, dtype: object"
      ]
     },
     "execution_count": 41,
     "metadata": {},
     "output_type": "execute_result"
    }
   ],
   "source": [
    "df['name'].describe()"
   ]
  },
  {
   "cell_type": "code",
   "execution_count": 45,
   "id": "a9aa7c2e-2eed-4d3c-ab41-7ab5d7915f94",
   "metadata": {},
   "outputs": [
    {
     "data": {
      "text/plain": [
       "count     5.000000\n",
       "mean     27.000000\n",
       "std       1.581139\n",
       "min      25.000000\n",
       "25%      26.000000\n",
       "50%      27.000000\n",
       "75%      28.000000\n",
       "max      29.000000\n",
       "Name: Age, dtype: float64"
      ]
     },
     "execution_count": 45,
     "metadata": {},
     "output_type": "execute_result"
    }
   ],
   "source": [
    "df['Age'].describe()"
   ]
  },
  {
   "cell_type": "code",
   "execution_count": 51,
   "id": "ba7ea414-4436-4493-bc41-0917a6ba5aaa",
   "metadata": {},
   "outputs": [
    {
     "data": {
      "text/plain": [
       "count    5.000000\n",
       "mean     3.192000\n",
       "std      1.273684\n",
       "min      1.560000\n",
       "25%      2.350000\n",
       "50%      3.200000\n",
       "75%      4.230000\n",
       "max      4.620000\n",
       "Name: Rating, dtype: float64"
      ]
     },
     "execution_count": 51,
     "metadata": {},
     "output_type": "execute_result"
    }
   ],
   "source": [
    "df['Rating'].describe()"
   ]
  },
  {
   "cell_type": "code",
   "execution_count": 55,
   "id": "bf3172b3-56c5-43db-bcde-1fb8455cebc8",
   "metadata": {},
   "outputs": [
    {
     "data": {
      "text/html": [
       "<div>\n",
       "<style scoped>\n",
       "    .dataframe tbody tr th:only-of-type {\n",
       "        vertical-align: middle;\n",
       "    }\n",
       "\n",
       "    .dataframe tbody tr th {\n",
       "        vertical-align: top;\n",
       "    }\n",
       "\n",
       "    .dataframe thead th {\n",
       "        text-align: right;\n",
       "    }\n",
       "</style>\n",
       "<table border=\"1\" class=\"dataframe\">\n",
       "  <thead>\n",
       "    <tr style=\"text-align: right;\">\n",
       "      <th></th>\n",
       "      <th>Age</th>\n",
       "      <th>Rating</th>\n",
       "    </tr>\n",
       "  </thead>\n",
       "  <tbody>\n",
       "    <tr>\n",
       "      <th>count</th>\n",
       "      <td>5.000000</td>\n",
       "      <td>5.000000</td>\n",
       "    </tr>\n",
       "    <tr>\n",
       "      <th>mean</th>\n",
       "      <td>27.000000</td>\n",
       "      <td>3.192000</td>\n",
       "    </tr>\n",
       "    <tr>\n",
       "      <th>std</th>\n",
       "      <td>1.581139</td>\n",
       "      <td>1.273684</td>\n",
       "    </tr>\n",
       "    <tr>\n",
       "      <th>min</th>\n",
       "      <td>25.000000</td>\n",
       "      <td>1.560000</td>\n",
       "    </tr>\n",
       "    <tr>\n",
       "      <th>25%</th>\n",
       "      <td>26.000000</td>\n",
       "      <td>2.350000</td>\n",
       "    </tr>\n",
       "    <tr>\n",
       "      <th>50%</th>\n",
       "      <td>27.000000</td>\n",
       "      <td>3.200000</td>\n",
       "    </tr>\n",
       "    <tr>\n",
       "      <th>75%</th>\n",
       "      <td>28.000000</td>\n",
       "      <td>4.230000</td>\n",
       "    </tr>\n",
       "    <tr>\n",
       "      <th>max</th>\n",
       "      <td>29.000000</td>\n",
       "      <td>4.620000</td>\n",
       "    </tr>\n",
       "  </tbody>\n",
       "</table>\n",
       "</div>"
      ],
      "text/plain": [
       "             Age    Rating\n",
       "count   5.000000  5.000000\n",
       "mean   27.000000  3.192000\n",
       "std     1.581139  1.273684\n",
       "min    25.000000  1.560000\n",
       "25%    26.000000  2.350000\n",
       "50%    27.000000  3.200000\n",
       "75%    28.000000  4.230000\n",
       "max    29.000000  4.620000"
      ]
     },
     "execution_count": 55,
     "metadata": {},
     "output_type": "execute_result"
    }
   ],
   "source": [
    "df.describe()"
   ]
  },
  {
   "cell_type": "markdown",
   "id": "658213a3-71ff-4700-a855-0f2969cd298f",
   "metadata": {},
   "source": [
    "#### Get the Descriptive Statistics for the Entire Pandas DataFrame"
   ]
  },
  {
   "cell_type": "code",
   "execution_count": 63,
   "id": "a79809aa-1063-4870-aaca-fe8e37b23773",
   "metadata": {},
   "outputs": [
    {
     "data": {
      "text/html": [
       "<div>\n",
       "<style scoped>\n",
       "    .dataframe tbody tr th:only-of-type {\n",
       "        vertical-align: middle;\n",
       "    }\n",
       "\n",
       "    .dataframe tbody tr th {\n",
       "        vertical-align: top;\n",
       "    }\n",
       "\n",
       "    .dataframe thead th {\n",
       "        text-align: right;\n",
       "    }\n",
       "</style>\n",
       "<table border=\"1\" class=\"dataframe\">\n",
       "  <thead>\n",
       "    <tr style=\"text-align: right;\">\n",
       "      <th></th>\n",
       "      <th>name</th>\n",
       "      <th>Age</th>\n",
       "      <th>Rating</th>\n",
       "    </tr>\n",
       "  </thead>\n",
       "  <tbody>\n",
       "    <tr>\n",
       "      <th>count</th>\n",
       "      <td>5</td>\n",
       "      <td>5.000000</td>\n",
       "      <td>5.000000</td>\n",
       "    </tr>\n",
       "    <tr>\n",
       "      <th>unique</th>\n",
       "      <td>5</td>\n",
       "      <td>NaN</td>\n",
       "      <td>NaN</td>\n",
       "    </tr>\n",
       "    <tr>\n",
       "      <th>top</th>\n",
       "      <td>prakash</td>\n",
       "      <td>NaN</td>\n",
       "      <td>NaN</td>\n",
       "    </tr>\n",
       "    <tr>\n",
       "      <th>freq</th>\n",
       "      <td>1</td>\n",
       "      <td>NaN</td>\n",
       "      <td>NaN</td>\n",
       "    </tr>\n",
       "    <tr>\n",
       "      <th>mean</th>\n",
       "      <td>NaN</td>\n",
       "      <td>27.000000</td>\n",
       "      <td>3.192000</td>\n",
       "    </tr>\n",
       "    <tr>\n",
       "      <th>std</th>\n",
       "      <td>NaN</td>\n",
       "      <td>1.581139</td>\n",
       "      <td>1.273684</td>\n",
       "    </tr>\n",
       "    <tr>\n",
       "      <th>min</th>\n",
       "      <td>NaN</td>\n",
       "      <td>25.000000</td>\n",
       "      <td>1.560000</td>\n",
       "    </tr>\n",
       "    <tr>\n",
       "      <th>25%</th>\n",
       "      <td>NaN</td>\n",
       "      <td>26.000000</td>\n",
       "      <td>2.350000</td>\n",
       "    </tr>\n",
       "    <tr>\n",
       "      <th>50%</th>\n",
       "      <td>NaN</td>\n",
       "      <td>27.000000</td>\n",
       "      <td>3.200000</td>\n",
       "    </tr>\n",
       "    <tr>\n",
       "      <th>75%</th>\n",
       "      <td>NaN</td>\n",
       "      <td>28.000000</td>\n",
       "      <td>4.230000</td>\n",
       "    </tr>\n",
       "    <tr>\n",
       "      <th>max</th>\n",
       "      <td>NaN</td>\n",
       "      <td>29.000000</td>\n",
       "      <td>4.620000</td>\n",
       "    </tr>\n",
       "  </tbody>\n",
       "</table>\n",
       "</div>"
      ],
      "text/plain": [
       "           name        Age    Rating\n",
       "count         5   5.000000  5.000000\n",
       "unique        5        NaN       NaN\n",
       "top     prakash        NaN       NaN\n",
       "freq          1        NaN       NaN\n",
       "mean        NaN  27.000000  3.192000\n",
       "std         NaN   1.581139  1.273684\n",
       "min         NaN  25.000000  1.560000\n",
       "25%         NaN  26.000000  2.350000\n",
       "50%         NaN  27.000000  3.200000\n",
       "75%         NaN  28.000000  4.230000\n",
       "max         NaN  29.000000  4.620000"
      ]
     },
     "execution_count": 63,
     "metadata": {},
     "output_type": "execute_result"
    }
   ],
   "source": [
    "df.describe(include='all')"
   ]
  },
  {
   "cell_type": "markdown",
   "id": "111884ce-6efb-432f-b57f-f6ae3aeac752",
   "metadata": {},
   "source": [
    "#### Breaking Down the Descriptive Statistics\n",
    "#### Sum Entire Data Frame"
   ]
  },
  {
   "cell_type": "code",
   "execution_count": 67,
   "id": "f87226f6-a307-4657-9042-b9f22f1ffde2",
   "metadata": {},
   "outputs": [
    {
     "data": {
      "text/plain": [
       "name      prakashrakeshmanojpravinkaran\n",
       "Age                                 135\n",
       "Rating                            15.96\n",
       "dtype: object"
      ]
     },
     "execution_count": 67,
     "metadata": {},
     "output_type": "execute_result"
    }
   ],
   "source": [
    "df.sum()"
   ]
  },
  {
   "cell_type": "markdown",
   "id": "f4cf8c0c-7d46-4a08-869d-7dea3c81f484",
   "metadata": {},
   "source": [
    "#### Sum of all the Age"
   ]
  },
  {
   "cell_type": "code",
   "execution_count": 80,
   "id": "6a96838a-a4fd-4f25-b191-df47c779dff7",
   "metadata": {},
   "outputs": [
    {
     "name": "stdout",
     "output_type": "stream",
     "text": [
      "sum of Age: 135\n"
     ]
    }
   ],
   "source": [
    "print('sum of Age:' , df.Age.sum())"
   ]
  },
  {
   "cell_type": "markdown",
   "id": "9afdc9f3-c859-424c-92a6-13c462e1eb50",
   "metadata": {},
   "source": [
    "#### Count"
   ]
  },
  {
   "cell_type": "code",
   "execution_count": 87,
   "id": "619bd3c2-375b-4a07-b76a-1445f8fee6e1",
   "metadata": {},
   "outputs": [
    {
     "name": "stdout",
     "output_type": "stream",
     "text": [
      "count no of Age : 5\n"
     ]
    }
   ],
   "source": [
    "print('count no of Age :',df.Age.count())"
   ]
  },
  {
   "cell_type": "markdown",
   "id": "e515ab5b-b986-4334-8830-835bcb4c132c",
   "metadata": {},
   "source": [
    "#### Mean"
   ]
  },
  {
   "cell_type": "code",
   "execution_count": 90,
   "id": "dac91ef4-c1ab-4358-85c1-e4b8484660c1",
   "metadata": {},
   "outputs": [
    {
     "name": "stdout",
     "output_type": "stream",
     "text": [
      "Mean of Age: 27.0\n"
     ]
    }
   ],
   "source": [
    "print('Mean of Age:', df.Age.mean())"
   ]
  },
  {
   "cell_type": "markdown",
   "id": "39046d65-2bd0-480d-85da-689d50f475b7",
   "metadata": {},
   "source": [
    "#### Standard Deviation"
   ]
  },
  {
   "cell_type": "code",
   "execution_count": 93,
   "id": "b4be25b8-247d-4680-b5f1-391e25da6710",
   "metadata": {},
   "outputs": [
    {
     "name": "stdout",
     "output_type": "stream",
     "text": [
      "std. of Age: 1.5811388300841898\n"
     ]
    }
   ],
   "source": [
    "print('std. of Age:', df.Age.std())"
   ]
  },
  {
   "cell_type": "markdown",
   "id": "2fec173b-9f6b-441e-929f-b2446bfa3864",
   "metadata": {},
   "source": [
    "#### Minimum"
   ]
  },
  {
   "cell_type": "code",
   "execution_count": 96,
   "id": "80aa7499-07d0-4452-8532-b6d47b6e162b",
   "metadata": {},
   "outputs": [
    {
     "name": "stdout",
     "output_type": "stream",
     "text": [
      "min. of Age  25\n"
     ]
    }
   ],
   "source": [
    "print('min. of Age ', df.Age.min())"
   ]
  },
  {
   "cell_type": "markdown",
   "id": "a6d67dd1-5b61-443b-9f9d-58dffe9ef677",
   "metadata": {},
   "source": [
    "#### 0.25 Quantile"
   ]
  },
  {
   "cell_type": "code",
   "execution_count": 102,
   "id": "49c31f39-2695-47db-87c9-c1386ef8623f",
   "metadata": {},
   "outputs": [
    {
     "name": "stdout",
     "output_type": "stream",
     "text": [
      "0.25 Quantile: 26.0\n"
     ]
    }
   ],
   "source": [
    "print(\"0.25 Quantile:\",df['Age'].quantile(q=0.25))"
   ]
  },
  {
   "cell_type": "markdown",
   "id": "6b809b19-200e-4b98-b883-42378b47e7fd",
   "metadata": {},
   "source": [
    "#### 0.50 Quantile (Median):"
   ]
  },
  {
   "cell_type": "code",
   "execution_count": 105,
   "id": "b2fc8755-452e-42bf-a229-d1d12f9c839f",
   "metadata": {},
   "outputs": [
    {
     "name": "stdout",
     "output_type": "stream",
     "text": [
      "0.50 Quantile Median: 27.0\n"
     ]
    }
   ],
   "source": [
    "print(\"0.50 Quantile Median:\",df['Age'].quantile(q=0.50))"
   ]
  },
  {
   "cell_type": "markdown",
   "id": "a120c7d5-8ef5-4ce3-be5d-394c6db246f2",
   "metadata": {},
   "source": [
    "#### 0.75 Quantile:"
   ]
  },
  {
   "cell_type": "code",
   "execution_count": 108,
   "id": "ddfed1a9-8dc1-4dfd-900f-04b92b0087b0",
   "metadata": {},
   "outputs": [
    {
     "name": "stdout",
     "output_type": "stream",
     "text": [
      "0.75 Quantile: 28.0\n"
     ]
    }
   ],
   "source": [
    "print(\"0.75 Quantile:\",df['Age'].quantile(q=0.75))"
   ]
  },
  {
   "cell_type": "markdown",
   "id": "877ed1a1-12aa-4612-b73c-10e226899abb",
   "metadata": {},
   "source": [
    "#### Maximum:"
   ]
  },
  {
   "cell_type": "code",
   "execution_count": 111,
   "id": "c45cede5-44c5-47bb-92bf-4719260043fe",
   "metadata": {},
   "outputs": [
    {
     "name": "stdout",
     "output_type": "stream",
     "text": [
      "Maximum Age: 29\n"
     ]
    }
   ],
   "source": [
    "print(\"Maximum Age:\",df.Age.max())"
   ]
  },
  {
   "cell_type": "markdown",
   "id": "457be344-76c1-46fc-8e7b-6fbc74b3db62",
   "metadata": {},
   "source": [
    "#### Product:"
   ]
  },
  {
   "cell_type": "code",
   "execution_count": 114,
   "id": "557321e5-8a24-47d8-8813-8d9bd1ac4529",
   "metadata": {},
   "outputs": [
    {
     "name": "stdout",
     "output_type": "stream",
     "text": [
      "Product of Age: 14250600\n"
     ]
    }
   ],
   "source": [
    "print(\"Product of Age:\",df.Age.prod())"
   ]
  },
  {
   "cell_type": "markdown",
   "id": "2a5fd41b-902a-4bcc-9685-545aeb28559a",
   "metadata": {},
   "source": [
    "#### Median:"
   ]
  },
  {
   "cell_type": "code",
   "execution_count": 117,
   "id": "9b008c20-48d2-47ec-96e1-a3802afcec97",
   "metadata": {},
   "outputs": [
    {
     "name": "stdout",
     "output_type": "stream",
     "text": [
      "Median of Age: 27.0\n"
     ]
    }
   ],
   "source": [
    "print(\"Median of Age:\",df.Age.median())"
   ]
  },
  {
   "cell_type": "markdown",
   "id": "22e9f4d5-32ea-4d39-8b5b-c8eeed4ba65f",
   "metadata": {},
   "source": [
    "#### Cumulative Sum:"
   ]
  },
  {
   "cell_type": "code",
   "execution_count": 131,
   "id": "7940ccbe-e926-4a01-a6fd-97ff24de8f21",
   "metadata": {},
   "outputs": [
    {
     "name": "stdout",
     "output_type": "stream",
     "text": [
      "Cumsum of Age: 0     25\n",
      "1     51\n",
      "2     78\n",
      "3    106\n",
      "4    135\n",
      "Name: Age, dtype: int64\n"
     ]
    }
   ],
   "source": [
    "print(\"Cumsum of Age:\",df.Age.cumsum())"
   ]
  },
  {
   "cell_type": "markdown",
   "id": "a315450a-d26f-41eb-9150-13287fb20914",
   "metadata": {},
   "source": [
    "#### Cumulative Product:"
   ]
  },
  {
   "cell_type": "code",
   "execution_count": 134,
   "id": "5bf52b44-daef-478f-bc57-83145a67d415",
   "metadata": {},
   "outputs": [
    {
     "name": "stdout",
     "output_type": "stream",
     "text": [
      "Cumprod of Age: 0          25\n",
      "1         650\n",
      "2       17550\n",
      "3      491400\n",
      "4    14250600\n",
      "Name: Age, dtype: int64\n"
     ]
    }
   ],
   "source": [
    "print(\"Cumprod of Age:\",df.Age.cumprod())"
   ]
  },
  {
   "cell_type": "markdown",
   "id": "81a7da0f-bccd-4774-9615-fc09b75420b4",
   "metadata": {},
   "source": [
    "#### Mode:"
   ]
  },
  {
   "cell_type": "code",
   "execution_count": 137,
   "id": "0849fae7-bb04-4d35-9dbf-e78495df0aa4",
   "metadata": {},
   "outputs": [
    {
     "name": "stdout",
     "output_type": "stream",
     "text": [
      "Mode: 0    25\n",
      "1    26\n",
      "2    27\n",
      "3    28\n",
      "4    29\n",
      "Name: Age, dtype: int64\n"
     ]
    }
   ],
   "source": [
    "print(\"Mode:\",df.Age.mode())"
   ]
  },
  {
   "cell_type": "markdown",
   "id": "64031609-0244-43c9-af98-76d14dd15b92",
   "metadata": {},
   "source": [
    "#### Absolute Value"
   ]
  },
  {
   "cell_type": "code",
   "execution_count": 140,
   "id": "c1264300-3752-4c1f-9224-15b5015cab0e",
   "metadata": {},
   "outputs": [
    {
     "name": "stdout",
     "output_type": "stream",
     "text": [
      "Absolute Value: 0    25\n",
      "1    26\n",
      "2    27\n",
      "3    28\n",
      "4    29\n",
      "Name: Age, dtype: int64\n"
     ]
    }
   ],
   "source": [
    "print(\"Absolute Value:\",df.Age.abs())"
   ]
  },
  {
   "cell_type": "markdown",
   "id": "792ce0a6-e06b-462a-a13f-6d3b075d9550",
   "metadata": {},
   "source": [
    "#### 2. Pandas – Basic Functionality\n",
    "* axes: Returns a list of the row axis labels\n",
    "* dtype: Returns the dtype of the object.\n",
    "* empty: Returns True if series is empty.\n",
    "* ndim: Returns the number of dimensions of the underlying data, by definition 1.\n",
    "* size: Returns the number of elements in the underlying data.\n",
    "* values: Returns the Series as ndarray.\n",
    "* head(): Returns the first n rows.\n",
    "* tail(): Returns the last n rows."
   ]
  },
  {
   "cell_type": "markdown",
   "id": "57b5d40d-9da4-406b-a791-6c06b6fd52cf",
   "metadata": {},
   "source": [
    "#### Axes\n"
   ]
  },
  {
   "cell_type": "code",
   "execution_count": 147,
   "id": "6b09879d-1afd-4b3e-9a62-e41c64ff543e",
   "metadata": {},
   "outputs": [
    {
     "data": {
      "text/plain": [
       "[RangeIndex(start=0, stop=5, step=1),\n",
       " Index(['name', 'Age', 'Rating'], dtype='object')]"
      ]
     },
     "execution_count": 147,
     "metadata": {},
     "output_type": "execute_result"
    }
   ],
   "source": [
    "df.axes"
   ]
  },
  {
   "cell_type": "markdown",
   "id": "54e4f39c-ba97-42be-bb57-72b49b6658a2",
   "metadata": {},
   "source": [
    "#### dtype"
   ]
  },
  {
   "cell_type": "code",
   "execution_count": 150,
   "id": "25f32e34-ecc7-4fc1-9941-e43814c5b3db",
   "metadata": {},
   "outputs": [
    {
     "data": {
      "text/plain": [
       "dtype('int64')"
      ]
     },
     "execution_count": 150,
     "metadata": {},
     "output_type": "execute_result"
    }
   ],
   "source": [
    "df['Age'].dtype"
   ]
  },
  {
   "cell_type": "markdown",
   "id": "2e365d65-1234-4620-8549-6212c697f401",
   "metadata": {},
   "source": [
    "#### empty"
   ]
  },
  {
   "cell_type": "code",
   "execution_count": 160,
   "id": "0c156e8f-32b9-47e2-8b9d-13d727cd1ccb",
   "metadata": {},
   "outputs": [
    {
     "data": {
      "text/plain": [
       "False"
      ]
     },
     "execution_count": 160,
     "metadata": {},
     "output_type": "execute_result"
    }
   ],
   "source": [
    "df.empty"
   ]
  },
  {
   "cell_type": "markdown",
   "id": "d181de7c-f9d3-4970-83f8-6a3d8ee5faa9",
   "metadata": {},
   "source": [
    "#### ndim"
   ]
  },
  {
   "cell_type": "code",
   "execution_count": 163,
   "id": "5b23b09f-993a-4de8-a930-b9b8be316635",
   "metadata": {},
   "outputs": [
    {
     "data": {
      "text/plain": [
       "2"
      ]
     },
     "execution_count": 163,
     "metadata": {},
     "output_type": "execute_result"
    }
   ],
   "source": [
    "df.ndim"
   ]
  },
  {
   "cell_type": "markdown",
   "id": "74eb8f43-2e3d-432b-884a-0f47a200bd33",
   "metadata": {},
   "source": [
    "#### size"
   ]
  },
  {
   "cell_type": "code",
   "execution_count": 166,
   "id": "c65fb390-21d0-4168-82ed-cfb28c8f0ef6",
   "metadata": {},
   "outputs": [
    {
     "data": {
      "text/plain": [
       "15"
      ]
     },
     "execution_count": 166,
     "metadata": {},
     "output_type": "execute_result"
    }
   ],
   "source": [
    "df.size"
   ]
  },
  {
   "cell_type": "markdown",
   "id": "6704fe3b-944a-4480-9e2e-f7979290a57d",
   "metadata": {},
   "source": [
    "#### values"
   ]
  },
  {
   "cell_type": "code",
   "execution_count": 169,
   "id": "2c14b43f-d30b-4662-ae29-29b7fdb6ab01",
   "metadata": {},
   "outputs": [
    {
     "data": {
      "text/plain": [
       "array([['prakash', 25, 4.23],\n",
       "       ['rakesh', 26, 2.35],\n",
       "       ['manoj', 27, 1.56],\n",
       "       ['pravin', 28, 3.2],\n",
       "       ['karan', 29, 4.62]], dtype=object)"
      ]
     },
     "execution_count": 169,
     "metadata": {},
     "output_type": "execute_result"
    }
   ],
   "source": [
    "df.values"
   ]
  },
  {
   "cell_type": "markdown",
   "id": "bbe340ef-0049-4d1c-b3fe-fee63df79a09",
   "metadata": {},
   "source": [
    "#### head()"
   ]
  },
  {
   "cell_type": "code",
   "execution_count": 184,
   "id": "80e635ad-5d42-4cfc-a244-260fa32df52e",
   "metadata": {},
   "outputs": [
    {
     "data": {
      "text/html": [
       "<div>\n",
       "<style scoped>\n",
       "    .dataframe tbody tr th:only-of-type {\n",
       "        vertical-align: middle;\n",
       "    }\n",
       "\n",
       "    .dataframe tbody tr th {\n",
       "        vertical-align: top;\n",
       "    }\n",
       "\n",
       "    .dataframe thead th {\n",
       "        text-align: right;\n",
       "    }\n",
       "</style>\n",
       "<table border=\"1\" class=\"dataframe\">\n",
       "  <thead>\n",
       "    <tr style=\"text-align: right;\">\n",
       "      <th></th>\n",
       "      <th>name</th>\n",
       "      <th>Age</th>\n",
       "      <th>Rating</th>\n",
       "    </tr>\n",
       "  </thead>\n",
       "  <tbody>\n",
       "    <tr>\n",
       "      <th>0</th>\n",
       "      <td>prakash</td>\n",
       "      <td>25</td>\n",
       "      <td>4.23</td>\n",
       "    </tr>\n",
       "    <tr>\n",
       "      <th>1</th>\n",
       "      <td>rakesh</td>\n",
       "      <td>26</td>\n",
       "      <td>2.35</td>\n",
       "    </tr>\n",
       "    <tr>\n",
       "      <th>2</th>\n",
       "      <td>manoj</td>\n",
       "      <td>27</td>\n",
       "      <td>1.56</td>\n",
       "    </tr>\n",
       "    <tr>\n",
       "      <th>3</th>\n",
       "      <td>pravin</td>\n",
       "      <td>28</td>\n",
       "      <td>3.20</td>\n",
       "    </tr>\n",
       "    <tr>\n",
       "      <th>4</th>\n",
       "      <td>karan</td>\n",
       "      <td>29</td>\n",
       "      <td>4.62</td>\n",
       "    </tr>\n",
       "  </tbody>\n",
       "</table>\n",
       "</div>"
      ],
      "text/plain": [
       "      name  Age  Rating\n",
       "0  prakash   25    4.23\n",
       "1   rakesh   26    2.35\n",
       "2    manoj   27    1.56\n",
       "3   pravin   28    3.20\n",
       "4    karan   29    4.62"
      ]
     },
     "execution_count": 184,
     "metadata": {},
     "output_type": "execute_result"
    }
   ],
   "source": [
    "df.head()"
   ]
  },
  {
   "cell_type": "code",
   "execution_count": 186,
   "id": "552e44f0-d85c-464d-9871-75cce3034443",
   "metadata": {},
   "outputs": [
    {
     "data": {
      "text/html": [
       "<div>\n",
       "<style scoped>\n",
       "    .dataframe tbody tr th:only-of-type {\n",
       "        vertical-align: middle;\n",
       "    }\n",
       "\n",
       "    .dataframe tbody tr th {\n",
       "        vertical-align: top;\n",
       "    }\n",
       "\n",
       "    .dataframe thead th {\n",
       "        text-align: right;\n",
       "    }\n",
       "</style>\n",
       "<table border=\"1\" class=\"dataframe\">\n",
       "  <thead>\n",
       "    <tr style=\"text-align: right;\">\n",
       "      <th></th>\n",
       "      <th>name</th>\n",
       "      <th>Age</th>\n",
       "      <th>Rating</th>\n",
       "    </tr>\n",
       "  </thead>\n",
       "  <tbody>\n",
       "    <tr>\n",
       "      <th>0</th>\n",
       "      <td>prakash</td>\n",
       "      <td>25</td>\n",
       "      <td>4.23</td>\n",
       "    </tr>\n",
       "    <tr>\n",
       "      <th>1</th>\n",
       "      <td>rakesh</td>\n",
       "      <td>26</td>\n",
       "      <td>2.35</td>\n",
       "    </tr>\n",
       "  </tbody>\n",
       "</table>\n",
       "</div>"
      ],
      "text/plain": [
       "      name  Age  Rating\n",
       "0  prakash   25    4.23\n",
       "1   rakesh   26    2.35"
      ]
     },
     "execution_count": 186,
     "metadata": {},
     "output_type": "execute_result"
    }
   ],
   "source": [
    "df.head(2)"
   ]
  },
  {
   "cell_type": "markdown",
   "id": "ae05588e-d5f4-4b29-be51-5324e9ef3bd4",
   "metadata": {},
   "source": [
    "#### tail()"
   ]
  },
  {
   "cell_type": "code",
   "execution_count": 189,
   "id": "9b4532b3-987a-42a5-8652-dbb4f1aff05c",
   "metadata": {},
   "outputs": [
    {
     "data": {
      "text/html": [
       "<div>\n",
       "<style scoped>\n",
       "    .dataframe tbody tr th:only-of-type {\n",
       "        vertical-align: middle;\n",
       "    }\n",
       "\n",
       "    .dataframe tbody tr th {\n",
       "        vertical-align: top;\n",
       "    }\n",
       "\n",
       "    .dataframe thead th {\n",
       "        text-align: right;\n",
       "    }\n",
       "</style>\n",
       "<table border=\"1\" class=\"dataframe\">\n",
       "  <thead>\n",
       "    <tr style=\"text-align: right;\">\n",
       "      <th></th>\n",
       "      <th>name</th>\n",
       "      <th>Age</th>\n",
       "      <th>Rating</th>\n",
       "    </tr>\n",
       "  </thead>\n",
       "  <tbody>\n",
       "    <tr>\n",
       "      <th>0</th>\n",
       "      <td>prakash</td>\n",
       "      <td>25</td>\n",
       "      <td>4.23</td>\n",
       "    </tr>\n",
       "    <tr>\n",
       "      <th>1</th>\n",
       "      <td>rakesh</td>\n",
       "      <td>26</td>\n",
       "      <td>2.35</td>\n",
       "    </tr>\n",
       "    <tr>\n",
       "      <th>2</th>\n",
       "      <td>manoj</td>\n",
       "      <td>27</td>\n",
       "      <td>1.56</td>\n",
       "    </tr>\n",
       "    <tr>\n",
       "      <th>3</th>\n",
       "      <td>pravin</td>\n",
       "      <td>28</td>\n",
       "      <td>3.20</td>\n",
       "    </tr>\n",
       "    <tr>\n",
       "      <th>4</th>\n",
       "      <td>karan</td>\n",
       "      <td>29</td>\n",
       "      <td>4.62</td>\n",
       "    </tr>\n",
       "  </tbody>\n",
       "</table>\n",
       "</div>"
      ],
      "text/plain": [
       "      name  Age  Rating\n",
       "0  prakash   25    4.23\n",
       "1   rakesh   26    2.35\n",
       "2    manoj   27    1.56\n",
       "3   pravin   28    3.20\n",
       "4    karan   29    4.62"
      ]
     },
     "execution_count": 189,
     "metadata": {},
     "output_type": "execute_result"
    }
   ],
   "source": [
    "df.tail()"
   ]
  },
  {
   "cell_type": "code",
   "execution_count": 191,
   "id": "0b5ed45f-ec7b-41c4-82bf-03f55f4b1ddd",
   "metadata": {},
   "outputs": [
    {
     "data": {
      "text/html": [
       "<div>\n",
       "<style scoped>\n",
       "    .dataframe tbody tr th:only-of-type {\n",
       "        vertical-align: middle;\n",
       "    }\n",
       "\n",
       "    .dataframe tbody tr th {\n",
       "        vertical-align: top;\n",
       "    }\n",
       "\n",
       "    .dataframe thead th {\n",
       "        text-align: right;\n",
       "    }\n",
       "</style>\n",
       "<table border=\"1\" class=\"dataframe\">\n",
       "  <thead>\n",
       "    <tr style=\"text-align: right;\">\n",
       "      <th></th>\n",
       "      <th>name</th>\n",
       "      <th>Age</th>\n",
       "      <th>Rating</th>\n",
       "    </tr>\n",
       "  </thead>\n",
       "  <tbody>\n",
       "    <tr>\n",
       "      <th>3</th>\n",
       "      <td>pravin</td>\n",
       "      <td>28</td>\n",
       "      <td>3.20</td>\n",
       "    </tr>\n",
       "    <tr>\n",
       "      <th>4</th>\n",
       "      <td>karan</td>\n",
       "      <td>29</td>\n",
       "      <td>4.62</td>\n",
       "    </tr>\n",
       "  </tbody>\n",
       "</table>\n",
       "</div>"
      ],
      "text/plain": [
       "     name  Age  Rating\n",
       "3  pravin   28    3.20\n",
       "4   karan   29    4.62"
      ]
     },
     "execution_count": 191,
     "metadata": {},
     "output_type": "execute_result"
    }
   ],
   "source": [
    "df.tail(2)"
   ]
  },
  {
   "cell_type": "code",
   "execution_count": null,
   "id": "d0067564-5e73-4047-9267-74ca00e07afe",
   "metadata": {},
   "outputs": [],
   "source": []
  },
  {
   "cell_type": "code",
   "execution_count": null,
   "id": "bbe280ce-9cea-4a37-9a56-6216e694d071",
   "metadata": {},
   "outputs": [],
   "source": []
  },
  {
   "cell_type": "code",
   "execution_count": null,
   "id": "0a49f064-ce25-4fbb-b4c0-b195ff9b2c11",
   "metadata": {},
   "outputs": [],
   "source": []
  },
  {
   "cell_type": "code",
   "execution_count": null,
   "id": "b2a05509-44f6-4525-9e8c-d43ca3fa8259",
   "metadata": {},
   "outputs": [],
   "source": []
  },
  {
   "cell_type": "code",
   "execution_count": null,
   "id": "408ceb51-e8f7-435e-a55a-a4a15f1df91c",
   "metadata": {},
   "outputs": [],
   "source": []
  },
  {
   "cell_type": "code",
   "execution_count": null,
   "id": "9aa41f8d-4bf6-4345-849c-dcf2c004924c",
   "metadata": {},
   "outputs": [],
   "source": []
  },
  {
   "cell_type": "code",
   "execution_count": null,
   "id": "d4cb6566-41be-4894-a88b-6a9882e66a14",
   "metadata": {},
   "outputs": [],
   "source": []
  }
 ],
 "metadata": {
  "kernelspec": {
   "display_name": "Python [conda env:base] *",
   "language": "python",
   "name": "conda-base-py"
  },
  "language_info": {
   "codemirror_mode": {
    "name": "ipython",
    "version": 3
   },
   "file_extension": ".py",
   "mimetype": "text/x-python",
   "name": "python",
   "nbconvert_exporter": "python",
   "pygments_lexer": "ipython3",
   "version": "3.12.7"
  }
 },
 "nbformat": 4,
 "nbformat_minor": 5
}
