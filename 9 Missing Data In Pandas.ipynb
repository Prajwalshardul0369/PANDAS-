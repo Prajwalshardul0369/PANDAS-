{
 "cells": [
  {
   "cell_type": "markdown",
   "id": "c46f68ed-f6a4-4ce5-b816-1af9682e36bd",
   "metadata": {},
   "source": [
    "### Missing Data In Pandas"
   ]
  },
  {
   "cell_type": "markdown",
   "id": "205bc13f-1966-499d-940f-f03734436e58",
   "metadata": {},
   "source": [
    "* Real-world data is dirty. It is important to preprocess the data before analyzing the data."
   ]
  },
  {
   "cell_type": "code",
   "execution_count": 3,
   "id": "9cdca734-d189-42bc-bd7c-916f59e2a7c2",
   "metadata": {},
   "outputs": [],
   "source": [
    "#importing libraries\n",
    "import pandas as pd\n",
    "import numpy as np"
   ]
  },
  {
   "cell_type": "markdown",
   "id": "66df9a88-da53-40a8-9ca9-4c6238078bd7",
   "metadata": {},
   "source": [
    "##### Note: Missing data in the Pandas is represented by the value NaN (Not a Number)"
   ]
  },
  {
   "cell_type": "markdown",
   "id": "e842b024-e568-4ce8-9159-56e69abdeab3",
   "metadata": {},
   "source": [
    "#### 1. Handling Missing data in Series\n",
    "#### Create a series which contain NaN values\n"
   ]
  },
  {
   "cell_type": "code",
   "execution_count": 6,
   "id": "65a84ff7-ef1f-4d01-8021-3df9dbfa25a0",
   "metadata": {},
   "outputs": [
    {
     "data": {
      "text/plain": [
       "0      A\n",
       "1    NaN\n",
       "2      C\n",
       "3      B\n",
       "4    NaN\n",
       "5      E\n",
       "6    NaN\n",
       "7    NaN\n",
       "8      D\n",
       "dtype: object"
      ]
     },
     "execution_count": 6,
     "metadata": {},
     "output_type": "execute_result"
    }
   ],
   "source": [
    "p=pd.Series([\"A\",np.nan,\"C\",\"B\",np.nan,\"E\",np.nan,np.nan,\"D\"])\n",
    "p"
   ]
  },
  {
   "cell_type": "markdown",
   "id": "3c2c70ed-0b70-45f1-9872-6a8344ac8711",
   "metadata": {},
   "source": [
    "#### To check the missing values in the data we use isnull() method."
   ]
  },
  {
   "cell_type": "code",
   "execution_count": 8,
   "id": "8ebea537-4c86-4077-b102-b14aeb47b5e0",
   "metadata": {},
   "outputs": [
    {
     "data": {
      "text/plain": [
       "0    False\n",
       "1     True\n",
       "2    False\n",
       "3    False\n",
       "4     True\n",
       "5    False\n",
       "6     True\n",
       "7     True\n",
       "8    False\n",
       "dtype: bool"
      ]
     },
     "execution_count": 8,
     "metadata": {},
     "output_type": "execute_result"
    }
   ],
   "source": [
    "p.isnull()"
   ]
  },
  {
   "cell_type": "code",
   "execution_count": 9,
   "id": "0f143ced-ad7d-4d03-b9a2-5338946161fc",
   "metadata": {},
   "outputs": [
    {
     "data": {
      "text/plain": [
       "1    NaN\n",
       "4    NaN\n",
       "6    NaN\n",
       "7    NaN\n",
       "dtype: object"
      ]
     },
     "execution_count": 9,
     "metadata": {},
     "output_type": "execute_result"
    }
   ],
   "source": [
    "p[p.isnull()]"
   ]
  },
  {
   "cell_type": "markdown",
   "id": "cb4c9d64-6ce2-4cbb-9fb3-3c1359582cc5",
   "metadata": {},
   "source": [
    "#### Similarly we can also check the data which is not null using notnull() method.\n"
   ]
  },
  {
   "cell_type": "code",
   "execution_count": 11,
   "id": "b3a70a8b-4fc6-41f0-b73f-66a8d147ef6f",
   "metadata": {},
   "outputs": [
    {
     "data": {
      "text/plain": [
       "0     True\n",
       "1    False\n",
       "2     True\n",
       "3     True\n",
       "4    False\n",
       "5     True\n",
       "6    False\n",
       "7    False\n",
       "8     True\n",
       "dtype: bool"
      ]
     },
     "execution_count": 11,
     "metadata": {},
     "output_type": "execute_result"
    }
   ],
   "source": [
    "p.notnull()"
   ]
  },
  {
   "cell_type": "code",
   "execution_count": 12,
   "id": "467b346e-6b26-4881-8a32-34d6cad1219f",
   "metadata": {},
   "outputs": [
    {
     "data": {
      "text/plain": [
       "0    A\n",
       "2    C\n",
       "3    B\n",
       "5    E\n",
       "8    D\n",
       "dtype: object"
      ]
     },
     "execution_count": 12,
     "metadata": {},
     "output_type": "execute_result"
    }
   ],
   "source": [
    "p[p.notnull()]"
   ]
  },
  {
   "cell_type": "markdown",
   "id": "6f92ec38-dc2b-479c-8fa5-6c900610ab6c",
   "metadata": {},
   "source": [
    "#### If you want to remove the missing data, you can use the dropna method."
   ]
  },
  {
   "cell_type": "code",
   "execution_count": 14,
   "id": "b5b88d2c-3f08-4e69-9d0c-8d472e74fe66",
   "metadata": {},
   "outputs": [
    {
     "data": {
      "text/plain": [
       "0    A\n",
       "2    C\n",
       "3    B\n",
       "5    E\n",
       "8    D\n",
       "dtype: object"
      ]
     },
     "execution_count": 14,
     "metadata": {},
     "output_type": "execute_result"
    }
   ],
   "source": [
    "p.dropna()"
   ]
  },
  {
   "cell_type": "markdown",
   "id": "e608eefc-d118-4735-a268-5a4d3cb2d88f",
   "metadata": {},
   "source": [
    "#### 2. Handling Missing data in DataFrame"
   ]
  },
  {
   "cell_type": "code",
   "execution_count": 16,
   "id": "7ee8fc7d-6754-419e-a833-812df370008e",
   "metadata": {},
   "outputs": [
    {
     "data": {
      "text/html": [
       "<div>\n",
       "<style scoped>\n",
       "    .dataframe tbody tr th:only-of-type {\n",
       "        vertical-align: middle;\n",
       "    }\n",
       "\n",
       "    .dataframe tbody tr th {\n",
       "        vertical-align: top;\n",
       "    }\n",
       "\n",
       "    .dataframe thead th {\n",
       "        text-align: right;\n",
       "    }\n",
       "</style>\n",
       "<table border=\"1\" class=\"dataframe\">\n",
       "  <thead>\n",
       "    <tr style=\"text-align: right;\">\n",
       "      <th></th>\n",
       "      <th>0</th>\n",
       "      <th>1</th>\n",
       "      <th>2</th>\n",
       "      <th>3</th>\n",
       "      <th>4</th>\n",
       "      <th>5</th>\n",
       "    </tr>\n",
       "  </thead>\n",
       "  <tbody>\n",
       "    <tr>\n",
       "      <th>0</th>\n",
       "      <td>12.0</td>\n",
       "      <td>32.0</td>\n",
       "      <td>13.0</td>\n",
       "      <td>55.0</td>\n",
       "      <td>78.0</td>\n",
       "      <td>54</td>\n",
       "    </tr>\n",
       "    <tr>\n",
       "      <th>1</th>\n",
       "      <td>42.0</td>\n",
       "      <td>NaN</td>\n",
       "      <td>54.0</td>\n",
       "      <td>NaN</td>\n",
       "      <td>55.0</td>\n",
       "      <td>855</td>\n",
       "    </tr>\n",
       "    <tr>\n",
       "      <th>2</th>\n",
       "      <td>NaN</td>\n",
       "      <td>64.0</td>\n",
       "      <td>NaN</td>\n",
       "      <td>45.0</td>\n",
       "      <td>NaN</td>\n",
       "      <td>78</td>\n",
       "    </tr>\n",
       "    <tr>\n",
       "      <th>3</th>\n",
       "      <td>55.0</td>\n",
       "      <td>447.0</td>\n",
       "      <td>552.0</td>\n",
       "      <td>NaN</td>\n",
       "      <td>85.0</td>\n",
       "      <td>889</td>\n",
       "    </tr>\n",
       "  </tbody>\n",
       "</table>\n",
       "</div>"
      ],
      "text/plain": [
       "      0      1      2     3     4    5\n",
       "0  12.0   32.0   13.0  55.0  78.0   54\n",
       "1  42.0    NaN   54.0   NaN  55.0  855\n",
       "2   NaN   64.0    NaN  45.0   NaN   78\n",
       "3  55.0  447.0  552.0   NaN  85.0  889"
      ]
     },
     "execution_count": 16,
     "metadata": {},
     "output_type": "execute_result"
    }
   ],
   "source": [
    "df=pd.DataFrame([[12,32,13,55,78,54],[42,np.nan,54,np.nan,55,855],[np.nan,64,np.nan,45,np.nan,78],[55,447,552,np.nan,85,889]])\n",
    "df"
   ]
  },
  {
   "cell_type": "markdown",
   "id": "18afcd7e-6218-4f3a-b209-a5b570e527c1",
   "metadata": {},
   "source": [
    "#### By default, the dropna method removes rows with missing data."
   ]
  },
  {
   "cell_type": "code",
   "execution_count": 18,
   "id": "7d7d77c2-eb42-43f5-be81-a2f6a7bfbac2",
   "metadata": {},
   "outputs": [
    {
     "data": {
      "text/html": [
       "<div>\n",
       "<style scoped>\n",
       "    .dataframe tbody tr th:only-of-type {\n",
       "        vertical-align: middle;\n",
       "    }\n",
       "\n",
       "    .dataframe tbody tr th {\n",
       "        vertical-align: top;\n",
       "    }\n",
       "\n",
       "    .dataframe thead th {\n",
       "        text-align: right;\n",
       "    }\n",
       "</style>\n",
       "<table border=\"1\" class=\"dataframe\">\n",
       "  <thead>\n",
       "    <tr style=\"text-align: right;\">\n",
       "      <th></th>\n",
       "      <th>0</th>\n",
       "      <th>1</th>\n",
       "      <th>2</th>\n",
       "      <th>3</th>\n",
       "      <th>4</th>\n",
       "      <th>5</th>\n",
       "    </tr>\n",
       "  </thead>\n",
       "  <tbody>\n",
       "    <tr>\n",
       "      <th>0</th>\n",
       "      <td>12.0</td>\n",
       "      <td>32.0</td>\n",
       "      <td>13.0</td>\n",
       "      <td>55.0</td>\n",
       "      <td>78.0</td>\n",
       "      <td>54</td>\n",
       "    </tr>\n",
       "  </tbody>\n",
       "</table>\n",
       "</div>"
      ],
      "text/plain": [
       "      0     1     2     3     4   5\n",
       "0  12.0  32.0  13.0  55.0  78.0  54"
      ]
     },
     "execution_count": 18,
     "metadata": {},
     "output_type": "execute_result"
    }
   ],
   "source": [
    "df.dropna()"
   ]
  },
  {
   "cell_type": "markdown",
   "id": "83b0cb0c-0160-4016-8b7e-642a5f190e17",
   "metadata": {},
   "source": [
    "#### Now, Let’s remove the columns with missing data."
   ]
  },
  {
   "cell_type": "code",
   "execution_count": 20,
   "id": "aa6d40fd-0489-45bd-9423-e13307341f15",
   "metadata": {},
   "outputs": [
    {
     "data": {
      "text/html": [
       "<div>\n",
       "<style scoped>\n",
       "    .dataframe tbody tr th:only-of-type {\n",
       "        vertical-align: middle;\n",
       "    }\n",
       "\n",
       "    .dataframe tbody tr th {\n",
       "        vertical-align: top;\n",
       "    }\n",
       "\n",
       "    .dataframe thead th {\n",
       "        text-align: right;\n",
       "    }\n",
       "</style>\n",
       "<table border=\"1\" class=\"dataframe\">\n",
       "  <thead>\n",
       "    <tr style=\"text-align: right;\">\n",
       "      <th></th>\n",
       "      <th>5</th>\n",
       "    </tr>\n",
       "  </thead>\n",
       "  <tbody>\n",
       "    <tr>\n",
       "      <th>0</th>\n",
       "      <td>54</td>\n",
       "    </tr>\n",
       "    <tr>\n",
       "      <th>1</th>\n",
       "      <td>855</td>\n",
       "    </tr>\n",
       "    <tr>\n",
       "      <th>2</th>\n",
       "      <td>78</td>\n",
       "    </tr>\n",
       "    <tr>\n",
       "      <th>3</th>\n",
       "      <td>889</td>\n",
       "    </tr>\n",
       "  </tbody>\n",
       "</table>\n",
       "</div>"
      ],
      "text/plain": [
       "     5\n",
       "0   54\n",
       "1  855\n",
       "2   78\n",
       "3  889"
      ]
     },
     "execution_count": 20,
     "metadata": {},
     "output_type": "execute_result"
    }
   ],
   "source": [
    "df.dropna(axis=1)"
   ]
  },
  {
   "cell_type": "markdown",
   "id": "eae69423-f124-4e16-8d4e-3dfda50d96bc",
   "metadata": {},
   "source": [
    "#### If you want to assign another value instead of missing data, you can use the fillna method."
   ]
  },
  {
   "cell_type": "code",
   "execution_count": 22,
   "id": "e02f0f46-b874-41ee-9a84-347f5bfdf9b5",
   "metadata": {},
   "outputs": [
    {
     "data": {
      "text/html": [
       "<div>\n",
       "<style scoped>\n",
       "    .dataframe tbody tr th:only-of-type {\n",
       "        vertical-align: middle;\n",
       "    }\n",
       "\n",
       "    .dataframe tbody tr th {\n",
       "        vertical-align: top;\n",
       "    }\n",
       "\n",
       "    .dataframe thead th {\n",
       "        text-align: right;\n",
       "    }\n",
       "</style>\n",
       "<table border=\"1\" class=\"dataframe\">\n",
       "  <thead>\n",
       "    <tr style=\"text-align: right;\">\n",
       "      <th></th>\n",
       "      <th>0</th>\n",
       "      <th>1</th>\n",
       "      <th>2</th>\n",
       "      <th>3</th>\n",
       "      <th>4</th>\n",
       "      <th>5</th>\n",
       "    </tr>\n",
       "  </thead>\n",
       "  <tbody>\n",
       "    <tr>\n",
       "      <th>0</th>\n",
       "      <td>12.0</td>\n",
       "      <td>32.0</td>\n",
       "      <td>13.0</td>\n",
       "      <td>55.0</td>\n",
       "      <td>78.0</td>\n",
       "      <td>54</td>\n",
       "    </tr>\n",
       "    <tr>\n",
       "      <th>1</th>\n",
       "      <td>42.0</td>\n",
       "      <td>0.0</td>\n",
       "      <td>54.0</td>\n",
       "      <td>0.0</td>\n",
       "      <td>55.0</td>\n",
       "      <td>855</td>\n",
       "    </tr>\n",
       "    <tr>\n",
       "      <th>2</th>\n",
       "      <td>0.0</td>\n",
       "      <td>64.0</td>\n",
       "      <td>0.0</td>\n",
       "      <td>45.0</td>\n",
       "      <td>0.0</td>\n",
       "      <td>78</td>\n",
       "    </tr>\n",
       "    <tr>\n",
       "      <th>3</th>\n",
       "      <td>55.0</td>\n",
       "      <td>447.0</td>\n",
       "      <td>552.0</td>\n",
       "      <td>0.0</td>\n",
       "      <td>85.0</td>\n",
       "      <td>889</td>\n",
       "    </tr>\n",
       "  </tbody>\n",
       "</table>\n",
       "</div>"
      ],
      "text/plain": [
       "      0      1      2     3     4    5\n",
       "0  12.0   32.0   13.0  55.0  78.0   54\n",
       "1  42.0    0.0   54.0   0.0  55.0  855\n",
       "2   0.0   64.0    0.0  45.0   0.0   78\n",
       "3  55.0  447.0  552.0   0.0  85.0  889"
      ]
     },
     "execution_count": 22,
     "metadata": {},
     "output_type": "execute_result"
    }
   ],
   "source": [
    "df.fillna(0)"
   ]
  },
  {
   "cell_type": "markdown",
   "id": "c7dc782c-a80c-486a-b66e-6a37a35e7721",
   "metadata": {},
   "source": [
    "#### Using the dictionary structure, you can assign the missing data in each column to a different value with the fillna method. Let me show that."
   ]
  },
  {
   "cell_type": "code",
   "execution_count": 24,
   "id": "4020bf7c-105d-46e7-b289-0b08822ceeb9",
   "metadata": {},
   "outputs": [
    {
     "data": {
      "text/html": [
       "<div>\n",
       "<style scoped>\n",
       "    .dataframe tbody tr th:only-of-type {\n",
       "        vertical-align: middle;\n",
       "    }\n",
       "\n",
       "    .dataframe tbody tr th {\n",
       "        vertical-align: top;\n",
       "    }\n",
       "\n",
       "    .dataframe thead th {\n",
       "        text-align: right;\n",
       "    }\n",
       "</style>\n",
       "<table border=\"1\" class=\"dataframe\">\n",
       "  <thead>\n",
       "    <tr style=\"text-align: right;\">\n",
       "      <th></th>\n",
       "      <th>0</th>\n",
       "      <th>1</th>\n",
       "      <th>2</th>\n",
       "      <th>3</th>\n",
       "      <th>4</th>\n",
       "      <th>5</th>\n",
       "    </tr>\n",
       "  </thead>\n",
       "  <tbody>\n",
       "    <tr>\n",
       "      <th>0</th>\n",
       "      <td>12.0</td>\n",
       "      <td>32.0</td>\n",
       "      <td>13.0</td>\n",
       "      <td>55.0</td>\n",
       "      <td>78.0</td>\n",
       "      <td>54</td>\n",
       "    </tr>\n",
       "    <tr>\n",
       "      <th>1</th>\n",
       "      <td>42.0</td>\n",
       "      <td>25.0</td>\n",
       "      <td>54.0</td>\n",
       "      <td>48.0</td>\n",
       "      <td>55.0</td>\n",
       "      <td>855</td>\n",
       "    </tr>\n",
       "    <tr>\n",
       "      <th>2</th>\n",
       "      <td>15.0</td>\n",
       "      <td>64.0</td>\n",
       "      <td>35.0</td>\n",
       "      <td>45.0</td>\n",
       "      <td>66.0</td>\n",
       "      <td>78</td>\n",
       "    </tr>\n",
       "    <tr>\n",
       "      <th>3</th>\n",
       "      <td>55.0</td>\n",
       "      <td>447.0</td>\n",
       "      <td>552.0</td>\n",
       "      <td>48.0</td>\n",
       "      <td>85.0</td>\n",
       "      <td>889</td>\n",
       "    </tr>\n",
       "  </tbody>\n",
       "</table>\n",
       "</div>"
      ],
      "text/plain": [
       "      0      1      2     3     4    5\n",
       "0  12.0   32.0   13.0  55.0  78.0   54\n",
       "1  42.0   25.0   54.0  48.0  55.0  855\n",
       "2  15.0   64.0   35.0  45.0  66.0   78\n",
       "3  55.0  447.0  552.0  48.0  85.0  889"
      ]
     },
     "execution_count": 24,
     "metadata": {},
     "output_type": "execute_result"
    }
   ],
   "source": [
    "df.fillna({0:15,1:25,2:35,3:48,4:66,5:56})"
   ]
  },
  {
   "cell_type": "markdown",
   "id": "702abe8e-97bd-4faf-ae19-8ca9ae6ae46b",
   "metadata": {},
   "source": [
    "#### If you want to assign the value in the upper row to the missing data, you can use the method = “ffill” or “bfill”"
   ]
  },
  {
   "cell_type": "markdown",
   "id": "4d77ebe0-4adf-4ad8-9143-db313388235d",
   "metadata": {},
   "source": [
    "#### Forward Fill"
   ]
  },
  {
   "cell_type": "code",
   "execution_count": 27,
   "id": "b20ff19c-9f62-47e8-b098-8b8bea246329",
   "metadata": {},
   "outputs": [
    {
     "name": "stderr",
     "output_type": "stream",
     "text": [
      
      "  df.fillna(method=\"ffill\")\n"
     ]
    },
    {
     "data": {
      "text/html": [
       "<div>\n",
       "<style scoped>\n",
       "    .dataframe tbody tr th:only-of-type {\n",
       "        vertical-align: middle;\n",
       "    }\n",
       "\n",
       "    .dataframe tbody tr th {\n",
       "        vertical-align: top;\n",
       "    }\n",
       "\n",
       "    .dataframe thead th {\n",
       "        text-align: right;\n",
       "    }\n",
       "</style>\n",
       "<table border=\"1\" class=\"dataframe\">\n",
       "  <thead>\n",
       "    <tr style=\"text-align: right;\">\n",
       "      <th></th>\n",
       "      <th>0</th>\n",
       "      <th>1</th>\n",
       "      <th>2</th>\n",
       "      <th>3</th>\n",
       "      <th>4</th>\n",
       "      <th>5</th>\n",
       "    </tr>\n",
       "  </thead>\n",
       "  <tbody>\n",
       "    <tr>\n",
       "      <th>0</th>\n",
       "      <td>12.0</td>\n",
       "      <td>32.0</td>\n",
       "      <td>13.0</td>\n",
       "      <td>55.0</td>\n",
       "      <td>78.0</td>\n",
       "      <td>54</td>\n",
       "    </tr>\n",
       "    <tr>\n",
       "      <th>1</th>\n",
       "      <td>42.0</td>\n",
       "      <td>32.0</td>\n",
       "      <td>54.0</td>\n",
       "      <td>55.0</td>\n",
       "      <td>55.0</td>\n",
       "      <td>855</td>\n",
       "    </tr>\n",
       "    <tr>\n",
       "      <th>2</th>\n",
       "      <td>42.0</td>\n",
       "      <td>64.0</td>\n",
       "      <td>54.0</td>\n",
       "      <td>45.0</td>\n",
       "      <td>55.0</td>\n",
       "      <td>78</td>\n",
       "    </tr>\n",
       "    <tr>\n",
       "      <th>3</th>\n",
       "      <td>55.0</td>\n",
       "      <td>447.0</td>\n",
       "      <td>552.0</td>\n",
       "      <td>45.0</td>\n",
       "      <td>85.0</td>\n",
       "      <td>889</td>\n",
       "    </tr>\n",
       "  </tbody>\n",
       "</table>\n",
       "</div>"
      ],
      "text/plain": [
       "      0      1      2     3     4    5\n",
       "0  12.0   32.0   13.0  55.0  78.0   54\n",
       "1  42.0   32.0   54.0  55.0  55.0  855\n",
       "2  42.0   64.0   54.0  45.0  55.0   78\n",
       "3  55.0  447.0  552.0  45.0  85.0  889"
      ]
     },
     "execution_count": 27,
     "metadata": {},
     "output_type": "execute_result"
    }
   ],
   "source": [
    "df.fillna(method=\"ffill\")"
   ]
  },
  {
   "cell_type": "markdown",
   "id": "d111c611-1d10-46b3-8784-e8f6799091ac",
   "metadata": {},
   "source": [
    "#### Backward Fill"
   ]
  },
  {
   "cell_type": "code",
   "execution_count": 29,
   "id": "1c2930fb-acbf-443d-b5de-19ec3e6be6c2",
   "metadata": {},
   "outputs": [
    {
     "name": "stderr",
     "output_type": "stream",
     "text": [
      
      "  df.fillna(method=\"bfill\")\n"
     ]
    },
    {
     "data": {
      "text/html": [
       "<div>\n",
       "<style scoped>\n",
       "    .dataframe tbody tr th:only-of-type {\n",
       "        vertical-align: middle;\n",
       "    }\n",
       "\n",
       "    .dataframe tbody tr th {\n",
       "        vertical-align: top;\n",
       "    }\n",
       "\n",
       "    .dataframe thead th {\n",
       "        text-align: right;\n",
       "    }\n",
       "</style>\n",
       "<table border=\"1\" class=\"dataframe\">\n",
       "  <thead>\n",
       "    <tr style=\"text-align: right;\">\n",
       "      <th></th>\n",
       "      <th>0</th>\n",
       "      <th>1</th>\n",
       "      <th>2</th>\n",
       "      <th>3</th>\n",
       "      <th>4</th>\n",
       "      <th>5</th>\n",
       "    </tr>\n",
       "  </thead>\n",
       "  <tbody>\n",
       "    <tr>\n",
       "      <th>0</th>\n",
       "      <td>12.0</td>\n",
       "      <td>32.0</td>\n",
       "      <td>13.0</td>\n",
       "      <td>55.0</td>\n",
       "      <td>78.0</td>\n",
       "      <td>54</td>\n",
       "    </tr>\n",
       "    <tr>\n",
       "      <th>1</th>\n",
       "      <td>42.0</td>\n",
       "      <td>64.0</td>\n",
       "      <td>54.0</td>\n",
       "      <td>45.0</td>\n",
       "      <td>55.0</td>\n",
       "      <td>855</td>\n",
       "    </tr>\n",
       "    <tr>\n",
       "      <th>2</th>\n",
       "      <td>55.0</td>\n",
       "      <td>64.0</td>\n",
       "      <td>552.0</td>\n",
       "      <td>45.0</td>\n",
       "      <td>85.0</td>\n",
       "      <td>78</td>\n",
       "    </tr>\n",
       "    <tr>\n",
       "      <th>3</th>\n",
       "      <td>55.0</td>\n",
       "      <td>447.0</td>\n",
       "      <td>552.0</td>\n",
       "      <td>NaN</td>\n",
       "      <td>85.0</td>\n",
       "      <td>889</td>\n",
       "    </tr>\n",
       "  </tbody>\n",
       "</table>\n",
       "</div>"
      ],
      "text/plain": [
       "      0      1      2     3     4    5\n",
       "0  12.0   32.0   13.0  55.0  78.0   54\n",
       "1  42.0   64.0   54.0  45.0  55.0  855\n",
       "2  55.0   64.0  552.0  45.0  85.0   78\n",
       "3  55.0  447.0  552.0   NaN  85.0  889"
      ]
     },
     "execution_count": 29,
     "metadata": {},
     "output_type": "execute_result"
    }
   ],
   "source": [
    "df.fillna(method=\"bfill\")\n"
   ]
  },
  {
   "cell_type": "code",
   "execution_count": null,
   "id": "2e6f54b1-303c-4ae4-85e3-dd2621f21128",
   "metadata": {},
   "outputs": [],
   "source": []
  },
  {
   "cell_type": "code",
   "execution_count": null,
   "id": "32f608bf-0717-43c0-932c-bd2d76a2c229",
   "metadata": {},
   "outputs": [],
   "source": []
  },
  {
   "cell_type": "code",
   "execution_count": null,
   "id": "cb20d346-d712-4664-a2e4-29c2e33c5c10",
   "metadata": {},
   "outputs": [],
   "source": []
  },
  {
   "cell_type": "code",
   "execution_count": null,
   "id": "ada5f02c-8009-4574-bc82-5c6cc81c6794",
   "metadata": {},
   "outputs": [],
   "source": []
  },
  {
   "cell_type": "code",
   "execution_count": null,
   "id": "b30b203f-3e68-4ffe-add9-69e48a8d96c0",
   "metadata": {},
   "outputs": [],
   "source": []
  },
  {
   "cell_type": "code",
   "execution_count": null,
   "id": "a45661cb-ea60-4b09-a1f4-f5cc500407e5",
   "metadata": {},
   "outputs": [],
   "source": []
  },
  {
   "cell_type": "code",
   "execution_count": null,
   "id": "7bd0cf56-6d80-4b5f-96e8-40817c821ada",
   "metadata": {},
   "outputs": [],
   "source": []
  }
 ],
 "metadata": {
  "kernelspec": {
   "display_name": "Python [conda env:base] *",
   "language": "python",
   "name": "conda-base-py"
  },
  "language_info": {
   "codemirror_mode": {
    "name": "ipython",
    "version": 3
   },
   "file_extension": ".py",
   "mimetype": "text/x-python",
   "name": "python",
   "nbconvert_exporter": "python",
   "pygments_lexer": "ipython3",
   "version": "3.12.7"
  }
 },
 "nbformat": 4,
 "nbformat_minor": 5
}
