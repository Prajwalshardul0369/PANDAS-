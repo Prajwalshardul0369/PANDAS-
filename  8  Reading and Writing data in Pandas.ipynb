{
 "cells": [
  {
   "cell_type": "markdown",
   "id": "c1317456-fc75-4a31-9faf-edb8fd057e12",
   "metadata": {},
   "source": [
    "### Reading and Writing data in Pandas"
   ]
  },
  {
   "cell_type": "code",
   "execution_count": 2,
   "id": "4568ba10-bc23-48d3-863c-9a568e6d7696",
   "metadata": {},
   "outputs": [],
   "source": [
    "#import libraries\n",
    "import pandas as pd\n",
    "import numpy as np"
   ]
  },
  {
   "cell_type": "markdown",
   "id": "a9c3901a-518c-4323-ac78-db1132bc9adf",
   "metadata": {},
   "source": [
    "#### 1. Reading from TEXT File\n",
    "\n",
    "Let’s read a dataset named data.txt in the working directory."
   ]
  },
  {
   "cell_type": "code",
   "execution_count": 4,
   "id": "f94912b2-9fcc-4e3b-b0bc-04d65dbb46b2",
   "metadata": {},
   "outputs": [
    {
     "data": {
      "text/html": [
       "<div>\n",
       "<style scoped>\n",
       "    .dataframe tbody tr th:only-of-type {\n",
       "        vertical-align: middle;\n",
       "    }\n",
       "\n",
       "    .dataframe tbody tr th {\n",
       "        vertical-align: top;\n",
       "    }\n",
       "\n",
       "    .dataframe thead th {\n",
       "        text-align: right;\n",
       "    }\n",
       "</style>\n",
       "<table border=\"1\" class=\"dataframe\">\n",
       "  <thead>\n",
       "    <tr style=\"text-align: right;\">\n",
       "      <th></th>\n",
       "      <th>Name</th>\n",
       "      <th>Score</th>\n",
       "      <th>Age</th>\n",
       "    </tr>\n",
       "  </thead>\n",
       "  <tbody>\n",
       "    <tr>\n",
       "      <th>0</th>\n",
       "      <td>gorge</td>\n",
       "      <td>80</td>\n",
       "      <td>28</td>\n",
       "    </tr>\n",
       "    <tr>\n",
       "      <th>1</th>\n",
       "      <td>jimmy</td>\n",
       "      <td>85</td>\n",
       "      <td>25</td>\n",
       "    </tr>\n",
       "    <tr>\n",
       "      <th>2</th>\n",
       "      <td>harry</td>\n",
       "      <td>70</td>\n",
       "      <td>23</td>\n",
       "    </tr>\n",
       "    <tr>\n",
       "      <th>3</th>\n",
       "      <td>Dolly</td>\n",
       "      <td>90</td>\n",
       "      <td>20</td>\n",
       "    </tr>\n",
       "    <tr>\n",
       "      <th>4</th>\n",
       "      <td>james</td>\n",
       "      <td>75</td>\n",
       "      <td>22</td>\n",
       "    </tr>\n",
       "  </tbody>\n",
       "</table>\n",
       "</div>"
      ],
      "text/plain": [
       "    Name  Score  Age\n",
       "0  gorge     80   28\n",
       "1  jimmy     85   25\n",
       "2  harry     70   23\n",
       "3  Dolly     90   20\n",
       "4  james     75   22"
      ]
     },
     "execution_count": 4,
     "metadata": {},
     "output_type": "execute_result"
    }
   ],
   "source": [
    "# Read the file and specify the delimiter\n",
    "df = pd.read_table(r\"D:\\demo.txt\", sep=',')\n",
    "# Remove leading whitespaces from the 'Name' column\n",
    "df['Name'] = df['Name'].str.strip()\n",
    "df\n",
    "\n"
   ]
  },
  {
   "cell_type": "markdown",
   "id": "2b5052e9-71b7-4a46-9a92-f05e1ac19034",
   "metadata": {},
   "source": [
    "#### 2 Reading from CSV"
   ]
  },
  {
   "cell_type": "code",
   "execution_count": 6,
   "id": "2a2a2a23-a097-40f0-8117-7012a5b8e837",
   "metadata": {},
   "outputs": [
    {
     "data": {
      "text/html": [
       "<div>\n",
       "<style scoped>\n",
       "    .dataframe tbody tr th:only-of-type {\n",
       "        vertical-align: middle;\n",
       "    }\n",
       "\n",
       "    .dataframe tbody tr th {\n",
       "        vertical-align: top;\n",
       "    }\n",
       "\n",
       "    .dataframe thead th {\n",
       "        text-align: right;\n",
       "    }\n",
       "</style>\n",
       "<table border=\"1\" class=\"dataframe\">\n",
       "  <thead>\n",
       "    <tr style=\"text-align: right;\">\n",
       "      <th></th>\n",
       "      <th>Text, Sentiment, Source, Date/Time, User ID, Location, Confidence Score</th>\n",
       "    </tr>\n",
       "  </thead>\n",
       "  <tbody>\n",
       "    <tr>\n",
       "      <th>0</th>\n",
       "      <td>\"I love this product!\", Positive, Twitter, 202...</td>\n",
       "    </tr>\n",
       "    <tr>\n",
       "      <th>1</th>\n",
       "      <td>\"The service was terrible.\", Negative, Yelp Re...</td>\n",
       "    </tr>\n",
       "    <tr>\n",
       "      <th>2</th>\n",
       "      <td>\"This movie is amazing!\", Positive, IMDb, 2023...</td>\n",
       "    </tr>\n",
       "    <tr>\n",
       "      <th>3</th>\n",
       "      <td>\"I'm so disappointed with their customer suppo...</td>\n",
       "    </tr>\n",
       "    <tr>\n",
       "      <th>4</th>\n",
       "      <td>\"Just had the best meal of my life!\", Positive...</td>\n",
       "    </tr>\n",
       "    <tr>\n",
       "      <th>...</th>\n",
       "      <td>...</td>\n",
       "    </tr>\n",
       "    <tr>\n",
       "      <th>93</th>\n",
       "      <td>\"I can't stop listening to this song. It's my ...</td>\n",
       "    </tr>\n",
       "    <tr>\n",
       "      <th>94</th>\n",
       "      <td>\"Their website is so confusing and poorly desi...</td>\n",
       "    </tr>\n",
       "    <tr>\n",
       "      <th>95</th>\n",
       "      <td>\"I had an incredible experience at the theme p...</td>\n",
       "    </tr>\n",
       "    <tr>\n",
       "      <th>96</th>\n",
       "      <td>NaN</td>\n",
       "    </tr>\n",
       "    <tr>\n",
       "      <th>97</th>\n",
       "      <td>NaN</td>\n",
       "    </tr>\n",
       "  </tbody>\n",
       "</table>\n",
       "<p>98 rows × 1 columns</p>\n",
       "</div>"
      ],
      "text/plain": [
       "   Text, Sentiment, Source, Date/Time, User ID, Location, Confidence Score\n",
       "0   \"I love this product!\", Positive, Twitter, 202...                     \n",
       "1   \"The service was terrible.\", Negative, Yelp Re...                     \n",
       "2   \"This movie is amazing!\", Positive, IMDb, 2023...                     \n",
       "3   \"I'm so disappointed with their customer suppo...                     \n",
       "4   \"Just had the best meal of my life!\", Positive...                     \n",
       "..                                                ...                     \n",
       "93  \"I can't stop listening to this song. It's my ...                     \n",
       "94  \"Their website is so confusing and poorly desi...                     \n",
       "95  \"I had an incredible experience at the theme p...                     \n",
       "96                                                NaN                     \n",
       "97                                                NaN                     \n",
       "\n",
       "[98 rows x 1 columns]"
      ]
     },
     "execution_count": 6,
     "metadata": {},
     "output_type": "execute_result"
    }
   ],
   "source": [
    "df=pd.read_csv(\"D:sentiment-analysis.csv\" )\n",
    "df\n",
    "\n"
   ]
  },
  {
   "cell_type": "markdown",
   "id": "851d4b05-0e43-4e99-ba93-9287683dca13",
   "metadata": {},
   "source": [
    "#### 3  Reading from Excel "
   ]
  },
  {
   "cell_type": "code",
   "execution_count": 8,
   "id": "befb8bb6-7055-4d39-9aa3-df70e7686119",
   "metadata": {},
   "outputs": [
    {
     "name": "stdout",
     "output_type": "stream",
     "text": [
      "    Emp Code   Employee Name      Address       City Region Department  Basic\n",
      "0          1        JP Kumar  Andheri (W)     Mumbai      W   Training   6250\n",
      "1          2   Anjali Thakur   Govindpuri      Delhi      N   Accounts   8750\n",
      "2          3   Priya Agarwal     Sector 9      Noida      N  Marketing  11250\n",
      "3          4          R Vasu       Egmore    Chennai      S        R&D  10000\n",
      "4          5    Sanjay Gupta     G K - II      Delhi      N   Training  16250\n",
      "5          6   Jharna Biswal    Link Road    Cuttack      E   Accounts   6400\n",
      "6          7   Prakash Dutta   Elgin Road    Kolkata      E  Marketing   4500\n",
      "7          8    Manisha Guha      Alipore    Kolkata      E        R&D   6275\n",
      "8          9      Arjun Jain      MG Road     Mumbai      W   Training   6250\n",
      "9         10    Arjun Kapoor   Kormangala  Bangalore      S   Accounts   8750\n",
      "10        11           Abrar    Jayanagar  Bangalore      S  Marketing  11250\n",
      "11        12     Shahid Khan     M.G Road  Mangalore      S        R&D  10000\n",
      "12        13   Anupam Mishra   Govindpuri     Mysore      S   Training  16250\n",
      "13        14         Ashwini     Sector 9  Mangalore      S   Accounts   6400\n",
      "14        15  Prateek Babbar   North Road      Delhi      N  Marketing   4500\n",
      "15        16   Sukanya Reddy      Alipore  Mangalore      S        R&D   6275\n",
      "16        17     Satish Puri       Bandra     Mumbai      W  Operation   6250\n",
      "17        18    Anjum Chopra        Worli     Mumbai      W        R&D   8750\n",
      "18        19      Akram Khan   S P B Road       Pune      W  Operation  11250\n",
      "19        20   Manish Grover   L L R Road      Noida      N   Training  10000\n"
     ]
    }
   ],
   "source": [
    "df = pd.read_excel(\"D:Sample Data.xlsx\")\n",
    "print(df)"
   ]
  },
  {
   "cell_type": "markdown",
   "id": "9e0621b7-8b53-4b4a-a631-eca5cd6d9ac2",
   "metadata": {},
   "source": [
    "#### Writing Data in Pandas"
   ]
  },
  {
   "cell_type": "markdown",
   "id": "1e5603e2-b491-4093-b67c-c4aae98f115d",
   "metadata": {},
   "source": [
    "To store the data in csv file You can use the to_csv method to write the dataset in csv format."
   ]
  },
  {
   "cell_type": "code",
   "execution_count": 11,
   "id": "cf9a8ce7-1329-43f4-91c4-1c557e1cc793",
   "metadata": {},
   "outputs": [
    {
     "data": {
      "text/html": [
       "<div>\n",
       "<style scoped>\n",
       "    .dataframe tbody tr th:only-of-type {\n",
       "        vertical-align: middle;\n",
       "    }\n",
       "\n",
       "    .dataframe tbody tr th {\n",
       "        vertical-align: top;\n",
       "    }\n",
       "\n",
       "    .dataframe thead th {\n",
       "        text-align: right;\n",
       "    }\n",
       "</style>\n",
       "<table border=\"1\" class=\"dataframe\">\n",
       "  <thead>\n",
       "    <tr style=\"text-align: right;\">\n",
       "      <th></th>\n",
       "      <th>name</th>\n",
       "      <th>roll_no.</th>\n",
       "      <th>marks</th>\n",
       "    </tr>\n",
       "  </thead>\n",
       "  <tbody>\n",
       "    <tr>\n",
       "      <th>0</th>\n",
       "      <td>rajiv</td>\n",
       "      <td>26.00</td>\n",
       "      <td>64.0</td>\n",
       "    </tr>\n",
       "    <tr>\n",
       "      <th>1</th>\n",
       "      <td>karan</td>\n",
       "      <td>26.00</td>\n",
       "      <td>98.0</td>\n",
       "    </tr>\n",
       "    <tr>\n",
       "      <th>2</th>\n",
       "      <td>pravin</td>\n",
       "      <td>28.00</td>\n",
       "      <td>88.0</td>\n",
       "    </tr>\n",
       "    <tr>\n",
       "      <th>3</th>\n",
       "      <td>prajkta</td>\n",
       "      <td>29.88</td>\n",
       "      <td>NaN</td>\n",
       "    </tr>\n",
       "    <tr>\n",
       "      <th>4</th>\n",
       "      <td>ananyaa</td>\n",
       "      <td>30.00</td>\n",
       "      <td>78.0</td>\n",
       "    </tr>\n",
       "  </tbody>\n",
       "</table>\n",
       "</div>"
      ],
      "text/plain": [
       "      name  roll_no.  marks\n",
       "0    rajiv     26.00   64.0\n",
       "1    karan     26.00   98.0\n",
       "2   pravin     28.00   88.0\n",
       "3  prajkta     29.88    NaN\n",
       "4  ananyaa     30.00   78.0"
      ]
     },
     "execution_count": 11,
     "metadata": {},
     "output_type": "execute_result"
    }
   ],
   "source": [
    "data = [['rajiv',26,64],['karan',26,98],['pravin',28,88],['prajkta',29.88],['ananyaa',30,78]]\n",
    "df=pd.DataFrame(data,columns=['name', 'roll_no.','marks'])\n",
    "df"
   ]
  },
  {
   "cell_type": "markdown",
   "id": "13c46e00-643c-4bee-9ddf-ec4d01907a7a",
   "metadata": {},
   "source": [
    "#### Save data to CSV File"
   ]
  },
  {
   "cell_type": "code",
   "execution_count": 13,
   "id": "bc17c8eb-558b-4de8-afc5-215d41fd377f",
   "metadata": {},
   "outputs": [],
   "source": [
    "df.to_csv('D:new_data.csv')"
   ]
  },
  {
   "cell_type": "markdown",
   "id": "f801c379-7984-4e7f-8bc4-c036dc524e7e",
   "metadata": {},
   "source": [
    "#### Save data to HTML Table"
   ]
  },
  {
   "cell_type": "code",
   "execution_count": 15,
   "id": "6ac28f60-4664-4eec-a9fd-6af2af25334e",
   "metadata": {},
   "outputs": [],
   "source": [
    "df.to_html('D:new_data html')"
   ]
  },
  {
   "cell_type": "markdown",
   "id": "925aa872-5d8b-4619-801d-607fa83545fe",
   "metadata": {},
   "source": [
    "#### Copy Data"
   ]
  },
  {
   "cell_type": "code",
   "execution_count": 17,
   "id": "ee8f4ac1-2a91-4395-b49c-7236c41bf976",
   "metadata": {},
   "outputs": [],
   "source": [
    "df.to_clipboard(sep=',')  "
   ]
  },
  {
   "cell_type": "markdown",
   "id": "4b057332-b404-4145-822d-56a77d736925",
   "metadata": {},
   "source": [
    "#### Save data to JSON"
   ]
  },
  {
   "cell_type": "code",
   "execution_count": 19,
   "id": "0b4bd510-50f5-46f2-8539-f0f3c1181afa",
   "metadata": {},
   "outputs": [],
   "source": [
    "df.to_json(\"D:new_data.json\")"
   ]
  },
  {
   "cell_type": "markdown",
   "id": "2c4b30c6-89e2-429c-ab2d-f9924d0c9a7a",
   "metadata": {},
   "source": [
    "#### Save data to Excel"
   ]
  },
  {
   "cell_type": "code",
   "execution_count": 21,
   "id": "b922116e-7c96-484e-b39e-ddf3791db352",
   "metadata": {},
   "outputs": [],
   "source": [
    "df.to_excel(\"D:new_data.xlsx\")"
   ]
  },
  {
   "cell_type": "markdown",
   "id": "53180781-dfbe-45eb-bfc9-776baf0e7354",
   "metadata": {},
   "source": [
    "#### `Save data to XML"
   ]
  },
  {
   "cell_type": "markdown",
   "id": "ce633220-e01a-4d83-8f93-9d77982b92a8",
   "metadata": {},
   "source": [
    "* pip install lxml"
   ]
  },
  {
   "cell_type": "code",
   "execution_count": 24,
   "id": "236bfa8a-5bda-437f-a637-1e19a064bc63",
   "metadata": {},
   "outputs": [],
   "source": [
    "df.to_xml(\"D:new_data.xml\")"
   ]
  },
  {
   "cell_type": "code",
   "execution_count": null,
   "id": "54b47370-e3aa-42f7-8425-740af181dc4f",
   "metadata": {},
   "outputs": [],
   "source": []
  },
  {
   "cell_type": "code",
   "execution_count": null,
   "id": "a06b2e70-f39e-4cef-ad67-298549bd0733",
   "metadata": {},
   "outputs": [],
   "source": []
  },
  {
   "cell_type": "code",
   "execution_count": null,
   "id": "b7cd4c2e-c971-4609-9598-98ae27e1a939",
   "metadata": {},
   "outputs": [],
   "source": []
  }
 ],
 "metadata": {
  "kernelspec": {
   "display_name": "Python [conda env:base] *",
   "language": "python",
   "name": "conda-base-py"
  },
  "language_info": {
   "codemirror_mode": {
    "name": "ipython",
    "version": 3
   },
   "file_extension": ".py",
   "mimetype": "text/x-python",
   "name": "python",
   "nbconvert_exporter": "python",
   "pygments_lexer": "ipython3",
   "version": "3.12.7"
  }
 },
 "nbformat": 4,
 "nbformat_minor": 5
}
