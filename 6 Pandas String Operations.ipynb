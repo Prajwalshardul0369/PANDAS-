{
 "cells": [
  {
   "cell_type": "markdown",
   "id": "3d118eda-f327-4a64-8b93-04558dcd9d6b",
   "metadata": {},
   "source": [
    "### Pands String Operations\n",
    "Pandas provides a set of string functions which make it easy to operate on string data. Most importantly, these functions ignore (or exclude) missing/NaN values."
   ]
  },
  {
   "cell_type": "markdown",
   "id": "0d494ed2-39d7-42c1-b2f5-899ea779c45f",
   "metadata": {},
   "source": [
    "1. lower() : Converts strings in the Series/Index to lower case.\n",
    "2. upper() : converts strings in the Series/Index to upper case.\n",
    "3. len(): Copmutes String  length().\n",
    "4. strip(): Helps strip whitespace(including newline) from each string in the Series/index from both the sides.\n",
    "5. split(): Splits each string with the given pattern.\n",
    "6. cat(sep=' '): Concatenates the series/index elements with given separator.\n",
    "7. get_dummies(): Returns the DataFrame with One-Hot Encoded values.\n",
    "8. contains(pattern): Returns a Boolean value True for each element if the substring contains in the element, else False.\n",
    "9. replace(a,b): Replaces the value a with the value b.\n",
    "10. repeat(value): Repeats each element with specified number of times.\n",
    "11. count(pattern): Returns count of appearance of pattern in each element.\n",
    "12. startwith(pattern):  Returns true if the element in the Series/Index starts with the pattern.\n",
    "13. endswith(pattern): Returns true if the element in the Series/Index ends with the pattern.\n",
    "14. find(pattern): Returns the first position of the first occurrence of the pattern.\n",
    "15. findall(pattern): Returns a list of all occurrence of the pattern.\n",
    "16. swapcase: Swaps the case lower/upper.\n",
    "17. islower(): Checks whether all characters in each string in the Series/Index in lower case or not. Returns Boolean\n",
    "18. isupper(): Checks whether all characters in each string in the Series/Index in upper case or not. Returns Boolean.\n",
    "19. isnumeric(): Checks whether all characters in each string in the Series/Index are numeric. Returns Boolean."
   ]
  },
  {
   "cell_type": "code",
   "execution_count": 3,
   "id": "75ec1c34-329a-4650-9690-17271f389ce5",
   "metadata": {},
   "outputs": [
    {
     "data": {
      "text/plain": [
       "0    Karan\n",
       "1    PRIYA\n",
       "2    ishta\n",
       "3    rajiv\n",
       "4    12345\n",
       "5    Varun\n",
       "6    RASHI\n",
       "7    MANAV\n",
       "8    swara\n",
       "dtype: object"
      ]
     },
     "execution_count": 3,
     "metadata": {},
     "output_type": "execute_result"
    }
   ],
   "source": [
    "import pandas as pd \n",
    "import numpy  as np\n",
    "s = pd.Series(['Karan', 'PRIYA', 'ishta', 'rajiv','12345','Varun','RASHI','MANAV','swara'])\n",
    "s"
   ]
  },
  {
   "cell_type": "markdown",
   "id": "b839d675-c23a-4202-aa7b-eea2c9f66583",
   "metadata": {},
   "source": [
    "#### String Lowercase"
   ]
  },
  {
   "cell_type": "code",
   "execution_count": 5,
   "id": "4c7652fb-22c7-4137-8766-10d0dc22d4b7",
   "metadata": {},
   "outputs": [
    {
     "data": {
      "text/plain": [
       "0    karan\n",
       "1    priya\n",
       "2    ishta\n",
       "3    rajiv\n",
       "4    12345\n",
       "5    varun\n",
       "6    rashi\n",
       "7    manav\n",
       "8    swara\n",
       "dtype: object"
      ]
     },
     "execution_count": 5,
     "metadata": {},
     "output_type": "execute_result"
    }
   ],
   "source": [
    "s.str.lower()"
   ]
  },
  {
   "cell_type": "markdown",
   "id": "c09233bb-0824-44ca-9afc-a269b6fd1a4a",
   "metadata": {},
   "source": [
    "#### String Uppercase"
   ]
  },
  {
   "cell_type": "code",
   "execution_count": 7,
   "id": "d046f1ca-ff64-4b5c-938e-78dac9936e35",
   "metadata": {},
   "outputs": [
    {
     "data": {
      "text/plain": [
       "0    KARAN\n",
       "1    PRIYA\n",
       "2    ISHTA\n",
       "3    RAJIV\n",
       "4    12345\n",
       "5    VARUN\n",
       "6    RASHI\n",
       "7    MANAV\n",
       "8    SWARA\n",
       "dtype: object"
      ]
     },
     "execution_count": 7,
     "metadata": {},
     "output_type": "execute_result"
    }
   ],
   "source": [
    "s.str.upper()"
   ]
  },
  {
   "cell_type": "markdown",
   "id": "c16b93f8-0771-430f-8d2d-ac0b5e54f74e",
   "metadata": {},
   "source": [
    "#### String Length"
   ]
  },
  {
   "cell_type": "code",
   "execution_count": 9,
   "id": "aca70afd-582a-4d0c-937d-03c4d63b7e00",
   "metadata": {},
   "outputs": [
    {
     "data": {
      "text/plain": [
       "0    5\n",
       "1    5\n",
       "2    5\n",
       "3    5\n",
       "4    5\n",
       "5    5\n",
       "6    5\n",
       "7    5\n",
       "8    5\n",
       "dtype: int64"
      ]
     },
     "execution_count": 9,
     "metadata": {},
     "output_type": "execute_result"
    }
   ],
   "source": [
    "s.str.len()"
   ]
  },
  {
   "cell_type": "markdown",
   "id": "eac3deeb-095f-4100-a281-3996224f61b2",
   "metadata": {},
   "source": [
    "#### String Concatenates"
   ]
  },
  {
   "cell_type": "code",
   "execution_count": 11,
   "id": "273145b0-dc06-4392-8968-3ba7eaa9d539",
   "metadata": {},
   "outputs": [
    {
     "data": {
      "text/plain": [
       "'Karan_+_PRIYA_+_ishta_+_rajiv_+_12345_+_Varun_+_RASHI_+_MANAV_+_swara'"
      ]
     },
     "execution_count": 11,
     "metadata": {},
     "output_type": "execute_result"
    }
   ],
   "source": [
    "s.str.cat(sep='_+_')"
   ]
  },
  {
   "cell_type": "markdown",
   "id": "b01f9aa6-29a7-4c9d-b3c9-fe74a326c853",
   "metadata": {},
   "source": [
    "#### String Contains"
   ]
  },
  {
   "cell_type": "code",
   "execution_count": 13,
   "id": "5f1f433a-95dd-400e-accf-57af87a6391f",
   "metadata": {},
   "outputs": [
    {
     "data": {
      "text/plain": [
       "0    Karan\n",
       "5    Varun\n",
       "dtype: object"
      ]
     },
     "execution_count": 13,
     "metadata": {},
     "output_type": "execute_result"
    }
   ],
   "source": [
    "s[s.str.contains('n')]"
   ]
  },
  {
   "cell_type": "markdown",
   "id": "681ec945-5f82-44dc-b61a-5c27086fde33",
   "metadata": {},
   "source": [
    "#### String Replace"
   ]
  },
  {
   "cell_type": "code",
   "execution_count": 15,
   "id": "07babf0f-bbbe-479f-92c4-27154ce4b856",
   "metadata": {},
   "outputs": [
    {
     "data": {
      "text/plain": [
       "0    K@r@n\n",
       "1    PRIYA\n",
       "2    isht@\n",
       "3    r@jiv\n",
       "4    12345\n",
       "5    V@run\n",
       "6    RASHI\n",
       "7    MANAV\n",
       "8    sw@r@\n",
       "dtype: object"
      ]
     },
     "execution_count": 15,
     "metadata": {},
     "output_type": "execute_result"
    }
   ],
   "source": [
    "s.str.replace('a','@')"
   ]
  },
  {
   "cell_type": "markdown",
   "id": "4f4cdb10-1b1e-44e4-b8e5-b9cf3fa2e33f",
   "metadata": {},
   "source": [
    "#### String Repeat"
   ]
  },
  {
   "cell_type": "code",
   "execution_count": 17,
   "id": "e95b5485-016b-4558-81bb-7a8746fe4593",
   "metadata": {},
   "outputs": [
    {
     "data": {
      "text/plain": [
       "0    KaranKaran\n",
       "1    PRIYAPRIYA\n",
       "2    ishtaishta\n",
       "3    rajivrajiv\n",
       "4    1234512345\n",
       "5    VarunVarun\n",
       "6    RASHIRASHI\n",
       "7    MANAVMANAV\n",
       "8    swaraswara\n",
       "dtype: object"
      ]
     },
     "execution_count": 17,
     "metadata": {},
     "output_type": "execute_result"
    }
   ],
   "source": [
    "s.str.repeat(2)"
   ]
  },
  {
   "cell_type": "markdown",
   "id": "30e3c385-9813-4129-910a-61e68fb64af6",
   "metadata": {},
   "source": [
    "#### String Count"
   ]
  },
  {
   "cell_type": "code",
   "execution_count": 19,
   "id": "2e1665ad-b724-4122-8b0b-814d2a1824e2",
   "metadata": {},
   "outputs": [
    {
     "data": {
      "text/plain": [
       "0    2\n",
       "1    0\n",
       "2    1\n",
       "3    1\n",
       "4    0\n",
       "5    1\n",
       "6    0\n",
       "7    0\n",
       "8    2\n",
       "dtype: int64"
      ]
     },
     "execution_count": 19,
     "metadata": {},
     "output_type": "execute_result"
    }
   ],
   "source": [
    "s.str.count('a')"
   ]
  },
  {
   "cell_type": "markdown",
   "id": "462ecea0-2255-4666-bca3-f5529338bc03",
   "metadata": {},
   "source": [
    "#### String Startswith"
   ]
  },
  {
   "cell_type": "code",
   "execution_count": 21,
   "id": "79671bf6-ce61-4843-b184-7387cec62290",
   "metadata": {},
   "outputs": [
    {
     "data": {
      "text/plain": [
       "0    Karan\n",
       "dtype: object"
      ]
     },
     "execution_count": 21,
     "metadata": {},
     "output_type": "execute_result"
    }
   ],
   "source": [
    "s[s.str.startswith('K')]"
   ]
  },
  {
   "cell_type": "markdown",
   "id": "77025952-bea0-411e-a8cf-2cee265f15dc",
   "metadata": {},
   "source": [
    "#### String Endswith"
   ]
  },
  {
   "cell_type": "code",
   "execution_count": 23,
   "id": "07f836a4-6093-4b9d-aaed-3e3c1537cf88",
   "metadata": {},
   "outputs": [
    {
     "data": {
      "text/plain": [
       "2    ishta\n",
       "8    swara\n",
       "dtype: object"
      ]
     },
     "execution_count": 23,
     "metadata": {},
     "output_type": "execute_result"
    }
   ],
   "source": [
    "s[s.str.endswith('a')]"
   ]
  },
  {
   "cell_type": "markdown",
   "id": "f889e96b-b531-4d4b-a99e-4a98ca440bf9",
   "metadata": {},
   "source": [
    "#### String find Index"
   ]
  },
  {
   "cell_type": "code",
   "execution_count": 25,
   "id": "c3b29ca4-fb93-402c-9af5-cc3d908ba960",
   "metadata": {},
   "outputs": [
    {
     "data": {
      "text/plain": [
       "0    1\n",
       "1   -1\n",
       "2    4\n",
       "3    1\n",
       "4   -1\n",
       "5    1\n",
       "6   -1\n",
       "7   -1\n",
       "8    2\n",
       "dtype: int64"
      ]
     },
     "execution_count": 25,
     "metadata": {},
     "output_type": "execute_result"
    }
   ],
   "source": [
    "s.str.find('a')"
   ]
  },
  {
   "cell_type": "markdown",
   "id": "745af88d-d451-4817-b5fd-117713f928e2",
   "metadata": {},
   "source": [
    "#### String findall"
   ]
  },
  {
   "cell_type": "code",
   "execution_count": 27,
   "id": "00e5aa6d-614a-48f3-a24a-a9100b9971e6",
   "metadata": {},
   "outputs": [
    {
     "data": {
      "text/plain": [
       "0    [a, a]\n",
       "1        []\n",
       "2       [a]\n",
       "3       [a]\n",
       "4        []\n",
       "5       [a]\n",
       "6        []\n",
       "7        []\n",
       "8    [a, a]\n",
       "dtype: object"
      ]
     },
     "execution_count": 27,
     "metadata": {},
     "output_type": "execute_result"
    }
   ],
   "source": [
    "s.str.findall('a')"
   ]
  },
  {
   "cell_type": "markdown",
   "id": "139be960-93df-45ed-90e3-345e84caf73e",
   "metadata": {},
   "source": [
    "#### String Swapcase()"
   ]
  },
  {
   "cell_type": "code",
   "execution_count": 29,
   "id": "7062d3fd-6979-4563-9cb3-892eb05a9007",
   "metadata": {},
   "outputs": [
    {
     "data": {
      "text/plain": [
       "0    kARAN\n",
       "1    priya\n",
       "2    ISHTA\n",
       "3    RAJIV\n",
       "4    12345\n",
       "5    vARUN\n",
       "6    rashi\n",
       "7    manav\n",
       "8    SWARA\n",
       "dtype: object"
      ]
     },
     "execution_count": 29,
     "metadata": {},
     "output_type": "execute_result"
    }
   ],
   "source": [
    "s.str.swapcase()"
   ]
  },
  {
   "cell_type": "markdown",
   "id": "34ea74f8-8471-4e59-abbb-a78e39b20587",
   "metadata": {},
   "source": [
    "#### String Islower"
   ]
  },
  {
   "cell_type": "code",
   "execution_count": 31,
   "id": "ef4b2a6a-d256-4bc4-8c14-9d6351157c4b",
   "metadata": {},
   "outputs": [
    {
     "data": {
      "text/plain": [
       "2    ishta\n",
       "3    rajiv\n",
       "8    swara\n",
       "dtype: object"
      ]
     },
     "execution_count": 31,
     "metadata": {},
     "output_type": "execute_result"
    }
   ],
   "source": [
    "s[s.str.islower()]"
   ]
  },
  {
   "cell_type": "markdown",
   "id": "73393a88-c026-4155-978a-373fbfea9b03",
   "metadata": {},
   "source": [
    "#### String Isupper"
   ]
  },
  {
   "cell_type": "code",
   "execution_count": 33,
   "id": "576f9dac-65df-4d18-b701-4a957019c89f",
   "metadata": {},
   "outputs": [
    {
     "data": {
      "text/plain": [
       "1    PRIYA\n",
       "6    RASHI\n",
       "7    MANAV\n",
       "dtype: object"
      ]
     },
     "execution_count": 33,
     "metadata": {},
     "output_type": "execute_result"
    }
   ],
   "source": [
    "s[s.str.isupper()]"
   ]
  },
  {
   "cell_type": "markdown",
   "id": "c97282bd-85ab-45fd-a63c-6718da109e27",
   "metadata": {},
   "source": [
    "#### String Isnumeric"
   ]
  },
  {
   "cell_type": "code",
   "execution_count": 35,
   "id": "a5c583e7-441b-40db-90c0-7fb6d9fdf5ec",
   "metadata": {},
   "outputs": [
    {
     "data": {
      "text/plain": [
       "4    12345\n",
       "dtype: object"
      ]
     },
     "execution_count": 35,
     "metadata": {},
     "output_type": "execute_result"
    }
   ],
   "source": [
    "s[s.str.isnumeric()]"
   ]
  },
  {
   "cell_type": "markdown",
   "id": "ebb827d9-2a1e-4a64-b8d6-f669e48adefe",
   "metadata": {},
   "source": [
    "#### String Strip"
   ]
  },
  {
   "cell_type": "code",
   "execution_count": 37,
   "id": "59a3f34c-f67e-48fe-8591-80dc4a32351e",
   "metadata": {},
   "outputs": [
    {
     "data": {
      "text/plain": [
       "0        Welcome to Python Masters Course \n",
       "dtype: object"
      ]
     },
     "execution_count": 37,
     "metadata": {},
     "output_type": "execute_result"
    }
   ],
   "source": [
    "S = pd.Series(['    Welcome to Python Masters Course '])\n",
    "S\n"
   ]
  },
  {
   "cell_type": "code",
   "execution_count": 38,
   "id": "a3d4e8c4-6224-4e40-9881-55ea9bfb2425",
   "metadata": {},
   "outputs": [
    {
     "data": {
      "text/plain": [
       "0    Welcome to Python Masters Course\n",
       "dtype: object"
      ]
     },
     "execution_count": 38,
     "metadata": {},
     "output_type": "execute_result"
    }
   ],
   "source": [
    "S.str.strip()"
   ]
  },
  {
   "cell_type": "code",
   "execution_count": 39,
   "id": "ace2ff8a-7e99-40d0-88bb-128631b0699f",
   "metadata": {},
   "outputs": [
    {
     "data": {
      "text/plain": [
       "0    Welcome to Python Masters Course\n",
       "dtype: object"
      ]
     },
     "execution_count": 39,
     "metadata": {},
     "output_type": "execute_result"
    }
   ],
   "source": [
    "S.str.strip(' ')"
   ]
  },
  {
   "cell_type": "code",
   "execution_count": 40,
   "id": "c2c7a230-0335-4360-a4e8-c04f4eedee9c",
   "metadata": {},
   "outputs": [
    {
     "data": {
      "text/plain": [
       "0    Welcome-to-Python-Masters-Course\n",
       "dtype: object"
      ]
     },
     "execution_count": 40,
     "metadata": {},
     "output_type": "execute_result"
    }
   ],
   "source": [
    "S = pd.Series(['Welcome-to-Python-Masters-Course'])\n",
    "S"
   ]
  },
  {
   "cell_type": "code",
   "execution_count": 41,
   "id": "bc768515-2f86-4deb-bbdd-a228fbaebf5b",
   "metadata": {},
   "outputs": [
    {
     "data": {
      "text/plain": [
       "0    Welcome-to-Python-Masters-Course\n",
       "dtype: object"
      ]
     },
     "execution_count": 41,
     "metadata": {},
     "output_type": "execute_result"
    }
   ],
   "source": [
    "S.str.strip('-')"
   ]
  },
  {
   "cell_type": "markdown",
   "id": "dc03b7fa-a1b7-4b93-93fd-b1cdda457059",
   "metadata": {},
   "source": [
    "#### String Split"
   ]
  },
  {
   "cell_type": "code",
   "execution_count": 43,
   "id": "9915e028-d711-4843-baad-497c57889325",
   "metadata": {},
   "outputs": [
    {
     "data": {
      "text/plain": [
       "0    Welcome to Python Masters Course\n",
       "dtype: object"
      ]
     },
     "execution_count": 43,
     "metadata": {},
     "output_type": "execute_result"
    }
   ],
   "source": [
    "S = pd.Series(['Welcome to Python Masters Course'])\n",
    "S"
   ]
  },
  {
   "cell_type": "code",
   "execution_count": 44,
   "id": "e3c1602c-7072-4845-bfdd-5815040036d8",
   "metadata": {},
   "outputs": [
    {
     "data": {
      "text/plain": [
       "0    [Welcome, to, Python, Masters, Course]\n",
       "dtype: object"
      ]
     },
     "execution_count": 44,
     "metadata": {},
     "output_type": "execute_result"
    }
   ],
   "source": [
    "S.str.split()"
   ]
  },
  {
   "cell_type": "code",
   "execution_count": 45,
   "id": "11ef017b-9218-43c7-8eec-475cb806ebf0",
   "metadata": {},
   "outputs": [
    {
     "data": {
      "text/plain": [
       "0    Welcome-to-Python-Masters-Course\n",
       "dtype: object"
      ]
     },
     "execution_count": 45,
     "metadata": {},
     "output_type": "execute_result"
    }
   ],
   "source": [
    "S = pd.Series(['Welcome-to-Python-Masters-Course'])\n",
    "S"
   ]
  },
  {
   "cell_type": "code",
   "execution_count": 46,
   "id": "ec15bf37-f819-460d-b789-74f74eb12070",
   "metadata": {},
   "outputs": [
    {
     "data": {
      "text/plain": [
       "0    [Welcome, to, Python, Masters, Course]\n",
       "dtype: object"
      ]
     },
     "execution_count": 46,
     "metadata": {},
     "output_type": "execute_result"
    }
   ],
   "source": [
    "S.str.split('-')"
   ]
  },
  {
   "cell_type": "markdown",
   "id": "9eb25f8e-7c37-41ff-a0dc-e7824426bbfc",
   "metadata": {},
   "source": [
    "#### String Dummies"
   ]
  },
  {
   "cell_type": "code",
   "execution_count": 48,
   "id": "cc52c66b-8eb6-4e3d-a7cb-ef449dca89f7",
   "metadata": {},
   "outputs": [
    {
     "data": {
      "text/plain": [
       "0    p\n",
       "1    q\n",
       "2    r\n",
       "3    s\n",
       "4    a\n",
       "dtype: object"
      ]
     },
     "execution_count": 48,
     "metadata": {},
     "output_type": "execute_result"
    }
   ],
   "source": [
    "s = pd.Series(list('pqrsa'))\n",
    "s"
   ]
  },
  {
   "cell_type": "code",
   "execution_count": 49,
   "id": "a70c0f83-6d0b-45b5-975f-495ee043fcaf",
   "metadata": {},
   "outputs": [
    {
     "data": {
      "text/html": [
       "<div>\n",
       "<style scoped>\n",
       "    .dataframe tbody tr th:only-of-type {\n",
       "        vertical-align: middle;\n",
       "    }\n",
       "\n",
       "    .dataframe tbody tr th {\n",
       "        vertical-align: top;\n",
       "    }\n",
       "\n",
       "    .dataframe thead th {\n",
       "        text-align: right;\n",
       "    }\n",
       "</style>\n",
       "<table border=\"1\" class=\"dataframe\">\n",
       "  <thead>\n",
       "    <tr style=\"text-align: right;\">\n",
       "      <th></th>\n",
       "      <th>a</th>\n",
       "      <th>p</th>\n",
       "      <th>q</th>\n",
       "      <th>r</th>\n",
       "      <th>s</th>\n",
       "    </tr>\n",
       "  </thead>\n",
       "  <tbody>\n",
       "    <tr>\n",
       "      <th>0</th>\n",
       "      <td>False</td>\n",
       "      <td>True</td>\n",
       "      <td>False</td>\n",
       "      <td>False</td>\n",
       "      <td>False</td>\n",
       "    </tr>\n",
       "    <tr>\n",
       "      <th>1</th>\n",
       "      <td>False</td>\n",
       "      <td>False</td>\n",
       "      <td>True</td>\n",
       "      <td>False</td>\n",
       "      <td>False</td>\n",
       "    </tr>\n",
       "    <tr>\n",
       "      <th>2</th>\n",
       "      <td>False</td>\n",
       "      <td>False</td>\n",
       "      <td>False</td>\n",
       "      <td>True</td>\n",
       "      <td>False</td>\n",
       "    </tr>\n",
       "    <tr>\n",
       "      <th>3</th>\n",
       "      <td>False</td>\n",
       "      <td>False</td>\n",
       "      <td>False</td>\n",
       "      <td>False</td>\n",
       "      <td>True</td>\n",
       "    </tr>\n",
       "    <tr>\n",
       "      <th>4</th>\n",
       "      <td>True</td>\n",
       "      <td>False</td>\n",
       "      <td>False</td>\n",
       "      <td>False</td>\n",
       "      <td>False</td>\n",
       "    </tr>\n",
       "  </tbody>\n",
       "</table>\n",
       "</div>"
      ],
      "text/plain": [
       "       a      p      q      r      s\n",
       "0  False   True  False  False  False\n",
       "1  False  False   True  False  False\n",
       "2  False  False  False   True  False\n",
       "3  False  False  False  False   True\n",
       "4   True  False  False  False  False"
      ]
     },
     "execution_count": 49,
     "metadata": {},
     "output_type": "execute_result"
    }
   ],
   "source": [
    "pd.get_dummies(s)"
   ]
  },
  {
   "cell_type": "code",
   "execution_count": null,
   "id": "10682694-2395-40a4-bbd2-9f8932574b04",
   "metadata": {},
   "outputs": [],
   "source": []
  },
  {
   "cell_type": "code",
   "execution_count": null,
   "id": "d12d2d56-0b00-4bc2-ba85-065d2eb903c2",
   "metadata": {},
   "outputs": [],
   "source": []
  },
  {
   "cell_type": "code",
   "execution_count": null,
   "id": "c740ea0f-3788-4385-8c12-735d2df4c648",
   "metadata": {},
   "outputs": [],
   "source": []
  },
  {
   "cell_type": "code",
   "execution_count": null,
   "id": "de6f206f-2eef-4214-a6e3-459ee5124c30",
   "metadata": {},
   "outputs": [],
   "source": []
  },
  {
   "cell_type": "code",
   "execution_count": null,
   "id": "92d8481b-6940-42a7-b442-f89128716ed3",
   "metadata": {},
   "outputs": [],
   "source": [
    "\n"
   ]
  },
  {
   "cell_type": "code",
   "execution_count": null,
   "id": "7bdd79a9-9db5-4333-ab3e-431dbc9d6fc9",
   "metadata": {},
   "outputs": [],
   "source": []
  }
 ],
 "metadata": {
  "kernelspec": {
   "display_name": "Python [conda env:base] *",
   "language": "python",
   "name": "conda-base-py"
  },
  "language_info": {
   "codemirror_mode": {
    "name": "ipython",
    "version": 3
   },
   "file_extension": ".py",
   "mimetype": "text/x-python",
   "name": "python",
   "nbconvert_exporter": "python",
   "pygments_lexer": "ipython3",
   "version": "3.12.7"
  }
 },
 "nbformat": 4,
 "nbformat_minor": 5
}
