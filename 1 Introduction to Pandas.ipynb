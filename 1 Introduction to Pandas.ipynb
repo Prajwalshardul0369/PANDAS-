{
 "cells": [
  {
   "cell_type": "markdown",
   "id": "543b6bf0-d4ec-4b55-89ee-5d74e010f3e6",
   "metadata": {},
   "source": [
    "## Introduction to Pandas"
   ]
  },
  {
   "cell_type": "markdown",
   "id": "2ba73028-ae55-4633-9f4c-3a0188e7aa9d",
   "metadata": {},
   "source": [
    "Pandas is a python library used for working with datasets. It has functions for analyzing, cleaning, exploring and manipulating data. Pandas is fast and it has high performance & productivity for users."
   ]
  },
  {
   "cell_type": "markdown",
   "id": "1691cb75-de13-4386-9041-22ad66f6f585",
   "metadata": {},
   "source": [
    "### Why use Pandas?"
   ]
  },
  {
   "cell_type": "markdown",
   "id": "d46cdb49-9461-4aab-9d12-cc1ec2b75394",
   "metadata": {},
   "source": [
    "1. Pandas allows us to analyze big data and make conclusions based on satistical theories.\r",
    "2. Pandas can clean messy datasets and make them readable.\n",
    "3. Easy handling of missing data (represented as NaN) in floating point as well as non-floating point data.ta"
   ]
  },
  {
   "cell_type": "markdown",
   "id": "44d7bbe7-129e-4206-9803-7204a48135e2",
   "metadata": {},
   "source": [
    "### Pandas deals with the following twoe data structures −"
   ]
  },
  {
   "cell_type": "markdown",
   "id": "f44f0b56-e7e4-431d-b950-04914a6522c0",
   "metadata": {},
   "source": [
    "1. series \n",
    "2. DataFrame"
   ]
  },
  {
   "cell_type": "markdown",
   "id": "4616db62-a7b6-44b1-82b4-87cda61d3b9d",
   "metadata": {},
   "source": [
    "### Pandas Installation"
   ]
  },
  {
   "cell_type": "code",
   "execution_count": 7,
   "id": "6a543f69-09ab-4b98-9360-fed8d8fa31a7",
   "metadata": {},
   "outputs": [
    {
     "name": "stdout",
     "output_type": "stream",
     "text": [
      "Requirement already satisfied: pandas in c:\\users\\prajw\\appdata\\local\\programs\\python\\python312\\lib\\site-packages (2.2.0)\n",
      "Requirement already satisfied: numpy<2,>=1.26.0 in c:\\users\\prajw\\appdata\\local\\programs\\python\\python312\\lib\\site-packages (from pandas) (1.26.4)\n",
      "Requirement already satisfied: python-dateutil>=2.8.2 in c:\\users\\prajw\\appdata\\local\\programs\\python\\python312\\lib\\site-packages (from pandas) (2.8.2)\n",
      "Requirement already satisfied: pytz>=2020.1 in c:\\users\\prajw\\appdata\\local\\programs\\python\\python312\\lib\\site-packages (from pandas) (2023.3.post1)\n",
      "Requirement already satisfied: tzdata>=2022.7 in c:\\users\\prajw\\appdata\\local\\programs\\python\\python312\\lib\\site-packages (from pandas) (2023.3)\n",
      "Requirement already satisfied: six>=1.5 in c:\\users\\prajw\\appdata\\local\\programs\\python\\python312\\lib\\site-packages (from python-dateutil>=2.8.2->pandas) (1.16.0)\n",
      "Note: you may need to restart the kernel to use updated packages.\n"
     ]
    }
   ],
   "source": [
    "pip install pandas "
   ]
  },
  {
   "cell_type": "markdown",
   "id": "d95be295-38e3-4105-9654-9eb2a4f61d5c",
   "metadata": {},
   "source": [
    "### Import Pandas"
   ]
  },
  {
   "cell_type": "code",
   "execution_count": 8,
   "id": "5b0020d6-5797-421d-82ea-eadcf5b68520",
   "metadata": {},
   "outputs": [],
   "source": [
    "import pandas "
   ]
  },
  {
   "cell_type": "markdown",
   "id": "bf0063f7-041e-46a3-9f54-2ff7abe869f9",
   "metadata": {},
   "source": [
    "### Pandas is usually imported under the pd alias"
   ]
  },
  {
   "cell_type": "code",
   "execution_count": 9,
   "id": "6693f8d0-9a63-4d12-aa58-858da1015b95",
   "metadata": {},
   "outputs": [],
   "source": [
    "import pandas as pd"
   ]
  },
  {
   "cell_type": "markdown",
   "id": "546743e3-b70f-45af-9c2e-0f2abb1cd5ac",
   "metadata": {},
   "source": [
    "### Check Python and Pandas version"
   ]
  },
  {
   "cell_type": "code",
   "execution_count": 11,
   "id": "8d2fc908-d0b7-4b78-bdb2-dd09ab1afca8",
   "metadata": {},
   "outputs": [
    {
     "name": "stdout",
     "output_type": "stream",
     "text": [
      "Python version: 3.12.0\n",
      "Pandas version: 2.2.0\n"
     ]
    }
   ],
   "source": [
    "import platform \n",
    "import pandas as pd\n",
    "print('Python version: ' + platform.python_version())\n",
    "print('Pandas version: ' + pd.__version__)"
   ]
  },
  {
   "cell_type": "code",
   "execution_count": null,
   "id": "9491864e-4713-4055-afff-5df75aba7aee",
   "metadata": {},
   "outputs": [],
   "source": []
  }
 ],
 "metadata": {
  "kernelspec": {
   "display_name": "Python 3 (ipykernel)",
   "language": "python",
   "name": "python3"
  },
  "language_info": {
   "codemirror_mode": {
    "name": "ipython",
    "version": 3
   },
   "file_extension": ".py",
   "mimetype": "text/x-python",
   "name": "python",
   "nbconvert_exporter": "python",
   "pygments_lexer": "ipython3",
   "version": "3.12.0"
  }
 },
 "nbformat": 4,
 "nbformat_minor": 5
}
