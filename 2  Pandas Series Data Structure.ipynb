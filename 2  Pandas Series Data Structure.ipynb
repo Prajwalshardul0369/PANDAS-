{
 "cells": [
  {
   "cell_type": "markdown",
   "id": "c09dbd23-f7bd-4f41-ac71-4300fea44758",
   "metadata": {},
   "source": [
    "### Series Data Structure"
   ]
  },
  {
   "cell_type": "markdown",
   "id": "acfbc327-3318-4ebf-816d-132a67bfe30a",
   "metadata": {},
   "source": [
    "A Series is a one-dimensional object that can hold any data type such as integers, floats and strings, Python Objects and etc."
   ]
  },
  {
   "cell_type": "markdown",
   "id": "2189c796-92dc-42ad-9b16-5289501efc19",
   "metadata": {},
   "source": [
    "##### pandas.Series( data, index, dtype, copy)\n",
    "* data: data takes various forms like ndarray, list, constants\n",
    "* index: Index values must be unique and hashable, same length as data. Default np.arrange(n) if no index is passed.\n",
    "* dtype: dtype is for data type. If None, data type will be inferred\n",
    "* copy: Copy data. Default False\n",
    "\n"
   ]
  },
  {
   "cell_type": "markdown",
   "id": "4474712d-166f-4f07-823e-99c52fefa102",
   "metadata": {},
   "source": [
    "#### Creating a Series"
   ]
  },
  {
   "cell_type": "markdown",
   "id": "c076979a-b596-4d11-bb2f-8469563dd46b",
   "metadata": {},
   "source": [
    "A pandas Series can be created using ‘pandas.Series()’ command.\n",
    "\n",
    "A Series can be created by using the various inputs like:\n",
    "\n",
    "List\n",
    "Tuple\n",
    "Dictionary\n",
    "Scalar value or constant\n",
    "Numpy Arra"
   ]
  },
  {
   "cell_type": "markdown",
   "id": "838d589f-f486-4069-aca7-1cfddd557736",
   "metadata": {},
   "source": [
    "#### Empty Series"
   ]
  },
  {
   "cell_type": "code",
   "execution_count": 8,
   "id": "caa9c3b2-e8e9-4094-b304-8b509f86f12f",
   "metadata": {},
   "outputs": [
    {
     "data": {
      "text/plain": [
       "Series([], dtype: object)"
      ]
     },
     "execution_count": 8,
     "metadata": {},
     "output_type": "execute_result"
    }
   ],
   "source": [
    "import pandas as pd\n",
    "s=pd.Series()\n",
    "s   "
   ]
  },
  {
   "cell_type": "markdown",
   "id": "239469a8-4632-4a7a-9263-5d105e505fb2",
   "metadata": {},
   "source": [
    "#### 1. Create a Series from List"
   ]
  },
  {
   "cell_type": "code",
   "execution_count": 10,
   "id": "db849c90-b35a-4cf6-bd4f-19797189be84",
   "metadata": {},
   "outputs": [
    {
     "data": {
      "text/plain": [
       "0    69\n",
       "1    51\n",
       "2    87\n",
       "3    97\n",
       "4    30\n",
       "5    16\n",
       "dtype: int64"
      ]
     },
     "execution_count": 10,
     "metadata": {},
     "output_type": "execute_result"
    }
   ],
   "source": [
    "L=[69,51,87,97,30,16]\n",
    "s=pd.Series(L)\n",
    "s"
   ]
  },
  {
   "cell_type": "markdown",
   "id": "ec37f0a1-2b8b-4613-a4f9-9396b3096ab2",
   "metadata": {},
   "source": [
    "#### Add index to series"
   ]
  },
  {
   "cell_type": "code",
   "execution_count": 12,
   "id": "ed35880f-8027-4fa1-a60e-e224504d9039",
   "metadata": {},
   "outputs": [
    {
     "data": {
      "text/plain": [
       "a    69\n",
       "b    51\n",
       "c    87\n",
       "d    97\n",
       "e    30\n",
       "f    16\n",
       "dtype: int64"
      ]
     },
     "execution_count": 12,
     "metadata": {},
     "output_type": "execute_result"
    }
   ],
   "source": [
    "L=[69,51,87,97,30,16]\n",
    "s=pd.Series(L,index=['a','b','c','d','e','f'])\n",
    "s"
   ]
  },
  {
   "cell_type": "markdown",
   "id": "624ff0c1-bed4-4ab5-a8eb-be7cadbb3a7f",
   "metadata": {},
   "source": [
    " #### change data dtype of series"
   ]
  },
  {
   "cell_type": "code",
   "execution_count": 14,
   "id": "e470830b-8503-4af0-bdf1-0cc185ef8af3",
   "metadata": {},
   "outputs": [
    {
     "data": {
      "text/plain": [
       "0    69\n",
       "1    51\n",
       "2    87\n",
       "3    97\n",
       "4    30\n",
       "5    16\n",
       "dtype: int64"
      ]
     },
     "execution_count": 14,
     "metadata": {},
     "output_type": "execute_result"
    }
   ],
   "source": [
    "L=[69,51,87,97,30,16]\n",
    "s=pd.Series(L)\n",
    "s"
   ]
  },
  {
   "cell_type": "markdown",
   "id": "ef761108-f33b-42c4-aca3-bc5b0c20e0c7",
   "metadata": {},
   "source": [
    "#### 2. Create a Series from Tuple"
   ]
  },
  {
   "cell_type": "code",
   "execution_count": 16,
   "id": "ca6db72b-afb7-4607-8ce8-53618cc94fb2",
   "metadata": {},
   "outputs": [
    {
     "data": {
      "text/plain": [
       "a    69.0\n",
       "b    51.0\n",
       "c    87.0\n",
       "d    97.0\n",
       "e    30.0\n",
       "f    16.0\n",
       "dtype: float64"
      ]
     },
     "execution_count": 16,
     "metadata": {},
     "output_type": "execute_result"
    }
   ],
   "source": [
    "T=(69,51,87,97,30,16)\n",
    "s=pd.Series(T,index=['a','b','c','d','e','f'],dtype=float)\n",
    "s"
   ]
  },
  {
   "cell_type": "markdown",
   "id": "9eee1861-8530-42eb-9465-102523775983",
   "metadata": {},
   "source": [
    "#### 3. Create a Series from Dictionary"
   ]
  },
  {
   "cell_type": "markdown",
   "id": "b1d4e5d5-ec47-4942-a152-faf588225884",
   "metadata": {},
   "source": [
    "If no index is supplied, the dictionary keys are taken in sorted order to generate the index if a dict is passed as input. If index is specified, the values in data that correspond to the index’s labels will be extracted."
   ]
  },
  {
   "cell_type": "code",
   "execution_count": 19,
   "id": "dbd66109-a9c3-4a02-8a52-8b94d449dfac",
   "metadata": {},
   "outputs": [
    {
     "data": {
      "text/plain": [
       "a    50\n",
       "b    18\n",
       "c    69\n",
       "d    64\n",
       "e    13\n",
       "dtype: int64"
      ]
     },
     "execution_count": 19,
     "metadata": {},
     "output_type": "execute_result"
    }
   ],
   "source": [
    "data = {'a':50, 'b':18, 'c':69, 'd':64, 'e':13}\n",
    "s = pd.Series(data)\n",
    "s"
   ]
  },
  {
   "cell_type": "markdown",
   "id": "e880725c-dfd5-4e8b-8a29-e02b3addc700",
   "metadata": {},
   "source": [
    "#### pass index"
   ]
  },
  {
   "cell_type": "code",
   "execution_count": 21,
   "id": "a5ecd114-f22a-4d57-a428-05d4618b042c",
   "metadata": {},
   "outputs": [
    {
     "data": {
      "text/plain": [
       "b    18\n",
       "d    64\n",
       "a    50\n",
       "c    69\n",
       "e    13\n",
       "dtype: int64"
      ]
     },
     "execution_count": 21,
     "metadata": {},
     "output_type": "execute_result"
    }
   ],
   "source": [
    "data = {'a':50, 'b':18, 'c':69, 'd':64, 'e':13}\n",
    "s = pd.Series(data,index=['b','d','a','c','e'])\n",
    "s"
   ]
  },
  {
   "cell_type": "markdown",
   "id": "bfac5b89-420b-414e-93df-2d8d71034662",
   "metadata": {},
   "source": [
    "#### add unknow index\n"
   ]
  },
  {
   "cell_type": "code",
   "execution_count": 23,
   "id": "68bb87f4-6d45-409c-9caf-375e24b63712",
   "metadata": {},
   "outputs": [
    {
     "data": {
      "text/plain": [
       "b    18.0\n",
       "d    64.0\n",
       "f     NaN\n",
       "a    50.0\n",
       "c    69.0\n",
       "e    13.0\n",
       "g     NaN\n",
       "dtype: float64"
      ]
     },
     "execution_count": 23,
     "metadata": {},
     "output_type": "execute_result"
    }
   ],
   "source": [
    "data = {'a':50, 'b':18, 'c':69, 'd':64, 'e':13}\n",
    "s = pd.Series(data,index=['b','d','f','a','c','e','g'])\n",
    "s"
   ]
  },
  {
   "cell_type": "markdown",
   "id": "cf9a870c-921b-4868-8520-c6b97d05fc56",
   "metadata": {},
   "source": [
    "* Note: Here NaN is : Not a Number\n",
    "* Index order is persisted and the missing element is filled with NaN (Not a Number)"
   ]
  },
  {
   "cell_type": "markdown",
   "id": "bdc57c6c-2b2a-455c-8dbb-4246e3bf82d2",
   "metadata": {},
   "source": [
    "#### 4. Create a Series with Scalar value or constant\n",
    "* data can be a scalar, which is repeated to fill the specified index:"
   ]
  },
  {
   "cell_type": "code",
   "execution_count": 26,
   "id": "e6290488-2bb7-4db6-988e-b88a0cf357d6",
   "metadata": {},
   "outputs": [
    {
     "data": {
      "text/plain": [
       "0    5\n",
       "dtype: int64"
      ]
     },
     "execution_count": 26,
     "metadata": {},
     "output_type": "execute_result"
    }
   ],
   "source": [
    "import pandas as pd \n",
    "Ser = pd.Series(5)\n",
    "Ser"
   ]
  },
  {
   "cell_type": "code",
   "execution_count": 27,
   "id": "daff1ed0-66e6-4c87-81f6-8c8456908f8a",
   "metadata": {},
   "outputs": [
    {
     "data": {
      "text/plain": [
       "100    5\n",
       "200    5\n",
       "300    5\n",
       "400    5\n",
       "500    5\n",
       "dtype: int64"
      ]
     },
     "execution_count": 27,
     "metadata": {},
     "output_type": "execute_result"
    }
   ],
   "source": [
    "import pandas as pd \n",
    "Ser = pd.Series(5, index=[100, 200, 300,400,500])\n",
    "Ser\n"
   ]
  },
  {
   "cell_type": "markdown",
   "id": "28127662-5f1b-4d62-86e2-280520cc791f",
   "metadata": {},
   "source": [
    "#### 5. Create a Series from ndarray\n",
    "\n",
    "If data is an ndarray, then index passed must be of the same length. If no index is passed, then by default index will be range(n) where n is array length, i.e., [0,1,2,3…. range(len(array))-1]."
   ]
  },
  {
   "cell_type": "code",
   "execution_count": 29,
   "id": "cbbcae6c-094d-4f80-bb62-e664dcc60335",
   "metadata": {},
   "outputs": [
    {
     "data": {
      "text/plain": [
       "0    10\n",
       "1    20\n",
       "2    30\n",
       "3    40\n",
       "4    50\n",
       "dtype: int32"
      ]
     },
     "execution_count": 29,
     "metadata": {},
     "output_type": "execute_result"
    }
   ],
   "source": [
    "import pandas as pd\n",
    "import numpy as np\n",
    "\n",
    "data = np.array([10,20,30,40,50])\n",
    "s = pd.Series(data)\n",
    "s"
   ]
  },
  {
   "cell_type": "markdown",
   "id": "98e26522-f402-4b50-8f7e-67014e4e2867",
   "metadata": {},
   "source": [
    "#### Passing the index values"
   ]
  },
  {
   "cell_type": "code",
   "execution_count": 31,
   "id": "03335b27-c8e1-4d47-8da9-58890b493deb",
   "metadata": {},
   "outputs": [
    {
     "data": {
      "text/plain": [
       "a    10\n",
       "b    20\n",
       "c    30\n",
       "d    40\n",
       "e    50\n",
       "dtype: int32"
      ]
     },
     "execution_count": 31,
     "metadata": {},
     "output_type": "execute_result"
    }
   ],
   "source": [
    "import pandas as pd\n",
    "import numpy as np\n",
    "\n",
    "data = np.array([10,20,30,40,50])\n",
    "s = pd.Series(data,index=['a','b','c','d','e'])\n",
    "s"
   ]
  },
  {
   "cell_type": "markdown",
   "id": "5636514a-2849-41e6-9149-d0b39a6f6638",
   "metadata": {},
   "source": [
    "#### 6. Accessing Data from Series with Position"
   ]
  },
  {
   "cell_type": "code",
   "execution_count": 33,
   "id": "6e6e8f0e-9bf1-4c9f-b19f-5a9602be8fc9",
   "metadata": {},
   "outputs": [
    {
     "data": {
      "text/plain": [
       "a    69\n",
       "b    51\n",
       "c    87\n",
       "d    97\n",
       "e    30\n",
       "f    16\n",
       "dtype: int64"
      ]
     },
     "execution_count": 33,
     "metadata": {},
     "output_type": "execute_result"
    }
   ],
   "source": [
    "L=[69,51,87,97,30,16]\n",
    "s=pd.Series(L,index=['a','b','c','d','e','f'])\n",
    "s"
   ]
  },
  {
   "cell_type": "markdown",
   "id": "7182f9f0-1f0c-47fe-90f9-708ced98fcf8",
   "metadata": {},
   "source": [
    "#### retrieve the first element using default index"
   ]
  },
  {
   "cell_type": "code",
   "execution_count": 35,
   "id": "b25fb9ef-3889-40e8-b66e-7f306cf1c2d8",
   "metadata": {},
   "outputs": [
    {
     "name": "stdout",
     "output_type": "stream",
     "text": [
      "87\n"
     ]
    }
   ],
   "source": [
    "print(s['c'])"
   ]
  },
  {
   "cell_type": "markdown",
   "id": "5c179957-ec7d-4f5d-b9a0-796dc308813b",
   "metadata": {},
   "source": [
    "#### OR"
   ]
  },
  {
   "cell_type": "code",
   "execution_count": 37,
   "id": "512e929f-e015-4402-9323-6f0d3e00b51b",
   "metadata": {},
   "outputs": [
    {
     "name": "stdout",
     "output_type": "stream",
     "text": [
      "87\n"
     ]
    },
    {
     "name": "stderr",
     "output_type": "stream",
     "text": [
      " FutureWarning: Series.__getitem__ treating keys as positions is deprecated. In a future version, integer keys will always be treated as labels (consistent with DataFrame behavior). To access a value by position, use `ser.iloc[pos]`\n",
      "  print(s[2])  #--> indexing\n"
     ]
    }
   ],
   "source": [
    "print(s[2])  #--> indexing "
   ]
  },
  {
   "cell_type": "markdown",
   "id": "32246b4f-cd87-4bea-b109-5a972049b9ae",
   "metadata": {},
   "source": [
    "#### retrieve the first three element"
   ]
  },
  {
   "cell_type": "code",
   "execution_count": 39,
   "id": "4ddba5fb-2fc2-48e2-a5ee-b9b1bbd0190b",
   "metadata": {},
   "outputs": [
    {
     "name": "stdout",
     "output_type": "stream",
     "text": [
      "a    69\n",
      "b    51\n",
      "c    87\n",
      "dtype: int64\n"
     ]
    }
   ],
   "source": [
    "print(s[:3])"
   ]
  },
  {
   "cell_type": "markdown",
   "id": "04541ba7-5194-4f26-b3eb-752be9f3d957",
   "metadata": {},
   "source": [
    "#### OR"
   ]
  },
  {
   "cell_type": "code",
   "execution_count": 41,
   "id": "15ca81bf-c1eb-434f-90b9-f4c1f8860820",
   "metadata": {},
   "outputs": [
    {
     "name": "stdout",
     "output_type": "stream",
     "text": [
      "a    69\n",
      "b    51\n",
      "c    87\n",
      "dtype: int64\n"
     ]
    }
   ],
   "source": [
    "print(s[:'c'])"
   ]
  },
  {
   "cell_type": "markdown",
   "id": "438cdf91-c3ea-49b5-8469-78525f87cbc6",
   "metadata": {},
   "source": [
    "#### retrieve the last three element"
   ]
  },
  {
   "cell_type": "code",
   "execution_count": 43,
   "id": "9e234df1-2426-48e7-ba2c-6a7552f93024",
   "metadata": {},
   "outputs": [
    {
     "name": "stdout",
     "output_type": "stream",
     "text": [
      "d    97\n",
      "e    30\n",
      "f    16\n",
      "dtype: int64\n"
     ]
    }
   ],
   "source": [
    "print(s[-3:])"
   ]
  },
  {
   "cell_type": "markdown",
   "id": "33d3f269-5276-4078-8d3b-8b409bb9b919",
   "metadata": {},
   "source": [
    "#### OR"
   ]
  },
  {
   "cell_type": "code",
   "execution_count": 45,
   "id": "447e240a-e31d-452b-9be6-be07ea9ce71d",
   "metadata": {},
   "outputs": [
    {
     "name": "stdout",
     "output_type": "stream",
     "text": [
      "d    97\n",
      "e    30\n",
      "f    16\n",
      "dtype: int64\n"
     ]
    }
   ],
   "source": [
    "print(s['d':])"
   ]
  },
  {
   "cell_type": "markdown",
   "id": "6499186e-07ed-4d33-b5ee-61ca2d914d21",
   "metadata": {},
   "source": [
    "#### retrieve multiple elements"
   ]
  },
  {
   "cell_type": "code",
   "execution_count": 47,
   "id": "a6f72765-88cd-48cf-bca5-4c146cbee865",
   "metadata": {},
   "outputs": [
    {
     "name": "stdout",
     "output_type": "stream",
     "text": [
      "a    69\n",
      "c    87\n",
      "d    97\n",
      "dtype: int64\n"
     ]
    }
   ],
   "source": [
    "print(s[['a','c','d']])"
   ]
  },
  {
   "cell_type": "code",
   "execution_count": null,
   "id": "c9aefcdb-7fa0-44bd-add6-53da062b9c4c",
   "metadata": {},
   "outputs": [],
   "source": []
  },
  {
   "cell_type": "code",
   "execution_count": null,
   "id": "46b4f25d-dd5f-4bf6-b75f-c8e9cc5492fe",
   "metadata": {},
   "outputs": [],
   "source": []
  },
  {
   "cell_type": "code",
   "execution_count": null,
   "id": "12135de2-5889-4e60-9c83-b77ee7741ece",
   "metadata": {},
   "outputs": [],
   "source": [
    "\n"
   ]
  }
 ],
 "metadata": {
  "kernelspec": {
   "display_name": "Python [conda env:base] *",
   "language": "python",
   "name": "conda-base-py"
  },
  "language_info": {
   "codemirror_mode": {
    "name": "ipython",
    "version": 3
   },
   "file_extension": ".py",
   "mimetype": "text/x-python",
   "name": "python",
   "nbconvert_exporter": "python",
   "pygments_lexer": "ipython3",
   "version": "3.12.7"
  }
 },
 "nbformat": 4,
 "nbformat_minor": 5
}
